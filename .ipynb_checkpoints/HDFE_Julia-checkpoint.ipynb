{
 "cells": [
  {
   "cell_type": "code",
   "execution_count": 1,
   "metadata": {},
   "outputs": [
    {
     "data": {
      "text/html": [
       "<div class=\"data-frame\"><p>19,151 rows × 9 columns</p><table class=\"data-frame\"><thead><tr><th></th><th>idcode</th><th>year</th><th>nev_mar</th><th>not_smsa</th><th>south</th><th>occ_code</th><th>union</th><th>ttl_exp</th><th>ln_wage</th></tr><tr><th></th><th title=\"Union{Missing, Int16}\">Int16?</th><th title=\"Union{Missing, Int8}\">Int8?</th><th title=\"Union{Missing, Int8}\">Int8?</th><th title=\"Union{Missing, Int8}\">Int8?</th><th title=\"Union{Missing, Int8}\">Int8?</th><th title=\"Union{Missing, Int8}\">Int8?</th><th title=\"Union{Missing, Int8}\">Int8?</th><th title=\"Union{Missing, Float32}\">Float32?</th><th title=\"Union{Missing, Float32}\">Float32?</th></tr></thead><tbody><tr><th>1</th><td>1</td><td>72</td><td>0</td><td>0</td><td>0</td><td>6</td><td>1</td><td>2.25641</td><td>1.58998</td></tr><tr><th>2</th><td>1</td><td>77</td><td>0</td><td>0</td><td>0</td><td>8</td><td>0</td><td>3.77564</td><td>1.77868</td></tr><tr><th>3</th><td>1</td><td>80</td><td>0</td><td>0</td><td>0</td><td>6</td><td>1</td><td>5.29487</td><td>2.55172</td></tr><tr><th>4</th><td>1</td><td>83</td><td>0</td><td>0</td><td>0</td><td>6</td><td>1</td><td>5.29487</td><td>2.42026</td></tr><tr><th>5</th><td>1</td><td>85</td><td>0</td><td>0</td><td>0</td><td>6</td><td>1</td><td>7.16026</td><td>2.61417</td></tr><tr><th>6</th><td>1</td><td>87</td><td>0</td><td>0</td><td>0</td><td>6</td><td>1</td><td>8.98718</td><td>2.53637</td></tr><tr><th>7</th><td>1</td><td>88</td><td>0</td><td>0</td><td>0</td><td>6</td><td>1</td><td>10.3333</td><td>2.46293</td></tr><tr><th>8</th><td>2</td><td>71</td><td>0</td><td>0</td><td>0</td><td>3</td><td>0</td><td>0.711538</td><td>1.36035</td></tr><tr><th>9</th><td>2</td><td>77</td><td>0</td><td>0</td><td>0</td><td>6</td><td>1</td><td>3.21154</td><td>1.72672</td></tr><tr><th>10</th><td>2</td><td>78</td><td>0</td><td>0</td><td>0</td><td>6</td><td>1</td><td>4.21154</td><td>1.68991</td></tr><tr><th>11</th><td>2</td><td>80</td><td>0</td><td>0</td><td>0</td><td>6</td><td>1</td><td>6.09615</td><td>1.72696</td></tr><tr><th>12</th><td>2</td><td>82</td><td>0</td><td>0</td><td>0</td><td>6</td><td>1</td><td>7.66667</td><td>1.80829</td></tr><tr><th>13</th><td>2</td><td>83</td><td>0</td><td>0</td><td>0</td><td>6</td><td>1</td><td>8.58333</td><td>1.86342</td></tr><tr><th>14</th><td>2</td><td>85</td><td>0</td><td>0</td><td>0</td><td>6</td><td>1</td><td>10.1795</td><td>1.78937</td></tr><tr><th>15</th><td>2</td><td>87</td><td>0</td><td>0</td><td>0</td><td>6</td><td>1</td><td>12.1795</td><td>1.84653</td></tr><tr><th>16</th><td>2</td><td>88</td><td>0</td><td>0</td><td>0</td><td>5</td><td>1</td><td>13.6218</td><td>1.85645</td></tr><tr><th>17</th><td>3</td><td>71</td><td>1</td><td>0</td><td>0</td><td>3</td><td>0</td><td>3.44231</td><td>1.54742</td></tr><tr><th>18</th><td>3</td><td>72</td><td>1</td><td>0</td><td>0</td><td>3</td><td>0</td><td>4.44231</td><td>1.60729</td></tr><tr><th>19</th><td>3</td><td>73</td><td>1</td><td>0</td><td>0</td><td>3</td><td>0</td><td>5.38462</td><td>1.59727</td></tr><tr><th>20</th><td>3</td><td>77</td><td>1</td><td>0</td><td>0</td><td>3</td><td>0</td><td>6.94231</td><td>1.62284</td></tr><tr><th>21</th><td>3</td><td>78</td><td>1</td><td>0</td><td>0</td><td>3</td><td>0</td><td>7.98077</td><td>1.56663</td></tr><tr><th>22</th><td>3</td><td>80</td><td>1</td><td>0</td><td>0</td><td>3</td><td>0</td><td>9.86539</td><td>1.55972</td></tr><tr><th>23</th><td>3</td><td>82</td><td>1</td><td>0</td><td>0</td><td>3</td><td>0</td><td>11.75</td><td>1.60342</td></tr><tr><th>24</th><td>3</td><td>83</td><td>1</td><td>0</td><td>0</td><td>3</td><td>0</td><td>12.6154</td><td>1.61423</td></tr><tr><th>&vellip;</th><td>&vellip;</td><td>&vellip;</td><td>&vellip;</td><td>&vellip;</td><td>&vellip;</td><td>&vellip;</td><td>&vellip;</td><td>&vellip;</td><td>&vellip;</td></tr></tbody></table></div>"
      ],
      "text/latex": [
       "\\begin{tabular}{r|ccccccccc}\n",
       "\t& idcode & year & nev\\_mar & not\\_smsa & south & occ\\_code & union & ttl\\_exp & ln\\_wage\\\\\n",
       "\t\\hline\n",
       "\t& Int16? & Int8? & Int8? & Int8? & Int8? & Int8? & Int8? & Float32? & Float32?\\\\\n",
       "\t\\hline\n",
       "\t1 & 1 & 72 & 0 & 0 & 0 & 6 & 1 & 2.25641 & 1.58998 \\\\\n",
       "\t2 & 1 & 77 & 0 & 0 & 0 & 8 & 0 & 3.77564 & 1.77868 \\\\\n",
       "\t3 & 1 & 80 & 0 & 0 & 0 & 6 & 1 & 5.29487 & 2.55172 \\\\\n",
       "\t4 & 1 & 83 & 0 & 0 & 0 & 6 & 1 & 5.29487 & 2.42026 \\\\\n",
       "\t5 & 1 & 85 & 0 & 0 & 0 & 6 & 1 & 7.16026 & 2.61417 \\\\\n",
       "\t6 & 1 & 87 & 0 & 0 & 0 & 6 & 1 & 8.98718 & 2.53637 \\\\\n",
       "\t7 & 1 & 88 & 0 & 0 & 0 & 6 & 1 & 10.3333 & 2.46293 \\\\\n",
       "\t8 & 2 & 71 & 0 & 0 & 0 & 3 & 0 & 0.711538 & 1.36035 \\\\\n",
       "\t9 & 2 & 77 & 0 & 0 & 0 & 6 & 1 & 3.21154 & 1.72672 \\\\\n",
       "\t10 & 2 & 78 & 0 & 0 & 0 & 6 & 1 & 4.21154 & 1.68991 \\\\\n",
       "\t11 & 2 & 80 & 0 & 0 & 0 & 6 & 1 & 6.09615 & 1.72696 \\\\\n",
       "\t12 & 2 & 82 & 0 & 0 & 0 & 6 & 1 & 7.66667 & 1.80829 \\\\\n",
       "\t13 & 2 & 83 & 0 & 0 & 0 & 6 & 1 & 8.58333 & 1.86342 \\\\\n",
       "\t14 & 2 & 85 & 0 & 0 & 0 & 6 & 1 & 10.1795 & 1.78937 \\\\\n",
       "\t15 & 2 & 87 & 0 & 0 & 0 & 6 & 1 & 12.1795 & 1.84653 \\\\\n",
       "\t16 & 2 & 88 & 0 & 0 & 0 & 5 & 1 & 13.6218 & 1.85645 \\\\\n",
       "\t17 & 3 & 71 & 1 & 0 & 0 & 3 & 0 & 3.44231 & 1.54742 \\\\\n",
       "\t18 & 3 & 72 & 1 & 0 & 0 & 3 & 0 & 4.44231 & 1.60729 \\\\\n",
       "\t19 & 3 & 73 & 1 & 0 & 0 & 3 & 0 & 5.38462 & 1.59727 \\\\\n",
       "\t20 & 3 & 77 & 1 & 0 & 0 & 3 & 0 & 6.94231 & 1.62284 \\\\\n",
       "\t21 & 3 & 78 & 1 & 0 & 0 & 3 & 0 & 7.98077 & 1.56663 \\\\\n",
       "\t22 & 3 & 80 & 1 & 0 & 0 & 3 & 0 & 9.86539 & 1.55972 \\\\\n",
       "\t23 & 3 & 82 & 1 & 0 & 0 & 3 & 0 & 11.75 & 1.60342 \\\\\n",
       "\t24 & 3 & 83 & 1 & 0 & 0 & 3 & 0 & 12.6154 & 1.61423 \\\\\n",
       "\t$\\dots$ & $\\dots$ & $\\dots$ & $\\dots$ & $\\dots$ & $\\dots$ & $\\dots$ & $\\dots$ & $\\dots$ & $\\dots$ \\\\\n",
       "\\end{tabular}\n"
      ],
      "text/plain": [
       "\u001b[1m19151×9 DataFrame\u001b[0m\n",
       "\u001b[1m   Row \u001b[0m│\u001b[1m idcode \u001b[0m\u001b[1m year  \u001b[0m\u001b[1m nev_mar \u001b[0m\u001b[1m not_smsa \u001b[0m\u001b[1m south \u001b[0m\u001b[1m occ_code \u001b[0m\u001b[1m union \u001b[0m\u001b[1m ttl_exp   \u001b[0m\u001b[1m \u001b[0m ⋯\n",
       "\u001b[1m       \u001b[0m│\u001b[90m Int16? \u001b[0m\u001b[90m Int8? \u001b[0m\u001b[90m Int8?   \u001b[0m\u001b[90m Int8?    \u001b[0m\u001b[90m Int8? \u001b[0m\u001b[90m Int8?    \u001b[0m\u001b[90m Int8? \u001b[0m\u001b[90m Float32?  \u001b[0m\u001b[90m \u001b[0m ⋯\n",
       "───────┼────────────────────────────────────────────────────────────────────────\n",
       "     1 │      1     72        0         0      0         6      1   2.25641    ⋯\n",
       "     2 │      1     77        0         0      0         8      0   3.77564\n",
       "     3 │      1     80        0         0      0         6      1   5.29487\n",
       "     4 │      1     83        0         0      0         6      1   5.29487\n",
       "     5 │      1     85        0         0      0         6      1   7.16026    ⋯\n",
       "     6 │      1     87        0         0      0         6      1   8.98718\n",
       "     7 │      1     88        0         0      0         6      1  10.3333\n",
       "     8 │      2     71        0         0      0         3      0   0.711538\n",
       "   ⋮   │   ⋮       ⋮       ⋮        ⋮        ⋮       ⋮        ⋮        ⋮       ⋱\n",
       " 19145 │   5159     77        0         0      1         3      0   2.08333    ⋯\n",
       " 19146 │   5159     78        0         0      1         3      1   3.0\n",
       " 19147 │   5159     80        0         0      1         3      1   5.0\n",
       " 19148 │   5159     82        0         0      1         3      0   7.0\n",
       " 19149 │   5159     83        0         0      1         3      1   8.07692    ⋯\n",
       " 19150 │   5159     85        0         0      1         3      1   9.07692\n",
       " 19151 │   5159     88        0         0      1         3      1  10.5962\n",
       "\u001b[36m                                                 1 column and 19136 rows omitted\u001b[0m"
      ]
     },
     "metadata": {},
     "output_type": "display_data"
    }
   ],
   "source": [
    "VERSION\n",
    "using RData, DelimitedFiles, FixedEffectModels, DataFrames, CSV, RDatasets, ReadStat, StatFiles\n",
    "Jdata = DataFrame(load(\"nlswork_regression.dta\"))"
   ]
  },
  {
   "cell_type": "code",
   "execution_count": 2,
   "metadata": {},
   "outputs": [
    {
     "name": "stdout",
     "output_type": "stream",
     "text": [
      "    \u001b[36m\u001b[1mDemean Variables:\u001b[22m\u001b[39m [=======>                         ]  1/5\r"
     ]
    },
    {
     "name": "stdout",
     "output_type": "stream",
     "text": [
      "\u001b[?25h\u001b[2K"
     ]
    },
    {
     "data": {
      "text/plain": [
       "15.608941625"
      ]
     },
     "metadata": {},
     "output_type": "display_data"
    }
   ],
   "source": [
    "@elapsed Julia_Wages = reg(Jdata, @formula(ln_wage ~ ttl_exp + union + not_smsa + nev_mar + fe(idcode) + fe(year)))"
   ]
  },
  {
   "cell_type": "code",
   "execution_count": 3,
   "metadata": {},
   "outputs": [
    {
     "data": {
      "text/plain": [
       "                           Fixed Effect Model                           \n",
       "=========================================================================\n",
       "Number of obs:                18486   Degrees of freedom:            3493\n",
       "R2:                           0.756   R2 Adjusted:                  0.700\n",
       "F-Stat:                     266.106   p-value:                      0.000\n",
       "R2 within:                    0.066   Iterations:                      11\n",
       "=========================================================================\n",
       "ln_wage  |   Estimate  Std.Error  t value Pr(>|t|)  Lower 95%   Upper 95%\n",
       "-------------------------------------------------------------------------\n",
       "ttl_exp  |  0.0436696 0.00159762  27.3342    0.000  0.0405381   0.0468011\n",
       "union    |   0.101249 0.00692685  14.6169    0.000  0.0876715    0.114826\n",
       "not_smsa | -0.0940314  0.0123763  -7.5977    0.000   -0.11829  -0.0697723\n",
       "nev_mar  | -0.0212838  0.0102303 -2.08048    0.037 -0.0413364 -0.00123125\n",
       "=========================================================================\n"
      ]
     },
     "metadata": {},
     "output_type": "display_data"
    }
   ],
   "source": [
    "Julia_Wages"
   ]
  }
 ],
 "metadata": {
  "kernelspec": {
   "display_name": "Julia 1.7.3",
   "language": "julia",
   "name": "julia-1.7"
  },
  "language_info": {
   "file_extension": ".jl",
   "mimetype": "application/julia",
   "name": "julia",
   "version": "1.7.3"
  },
  "orig_nbformat": 4,
  "vscode": {
   "interpreter": {
    "hash": "9650cb4e16cdd4a8e8e2d128bf38d875813998db22a3c986335f89e0cb4d7bb2"
   }
  }
 },
 "nbformat": 4,
 "nbformat_minor": 2
}
