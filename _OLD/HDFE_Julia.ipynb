{
 "cells": [
  {
   "cell_type": "code",
   "execution_count": 1,
   "metadata": {},
   "outputs": [
    {
     "data": {
      "text/html": [
       "<div class=\"data-frame\"><p>19,151 rows × 9 columns</p><table class=\"data-frame\"><thead><tr><th></th><th>idcode</th><th>year</th><th>nev_mar</th><th>not_smsa</th><th>south</th><th>occ_code</th><th>union</th><th>ttl_exp</th><th>ln_wage</th></tr><tr><th></th><th title=\"Union{Missing, Int16}\">Int16?</th><th title=\"Union{Missing, Int8}\">Int8?</th><th title=\"Union{Missing, Int8}\">Int8?</th><th title=\"Union{Missing, Int8}\">Int8?</th><th title=\"Union{Missing, Int8}\">Int8?</th><th title=\"Union{Missing, Int8}\">Int8?</th><th title=\"Union{Missing, Int8}\">Int8?</th><th title=\"Union{Missing, Float32}\">Float32?</th><th title=\"Union{Missing, Float32}\">Float32?</th></tr></thead><tbody><tr><th>1</th><td>1</td><td>72</td><td>0</td><td>0</td><td>0</td><td>6</td><td>1</td><td>2.25641</td><td>1.58998</td></tr><tr><th>2</th><td>1</td><td>77</td><td>0</td><td>0</td><td>0</td><td>8</td><td>0</td><td>3.77564</td><td>1.77868</td></tr><tr><th>3</th><td>1</td><td>80</td><td>0</td><td>0</td><td>0</td><td>6</td><td>1</td><td>5.29487</td><td>2.55172</td></tr><tr><th>4</th><td>1</td><td>83</td><td>0</td><td>0</td><td>0</td><td>6</td><td>1</td><td>5.29487</td><td>2.42026</td></tr><tr><th>5</th><td>1</td><td>85</td><td>0</td><td>0</td><td>0</td><td>6</td><td>1</td><td>7.16026</td><td>2.61417</td></tr><tr><th>6</th><td>1</td><td>87</td><td>0</td><td>0</td><td>0</td><td>6</td><td>1</td><td>8.98718</td><td>2.53637</td></tr><tr><th>7</th><td>1</td><td>88</td><td>0</td><td>0</td><td>0</td><td>6</td><td>1</td><td>10.3333</td><td>2.46293</td></tr><tr><th>8</th><td>2</td><td>71</td><td>0</td><td>0</td><td>0</td><td>3</td><td>0</td><td>0.711538</td><td>1.36035</td></tr><tr><th>9</th><td>2</td><td>77</td><td>0</td><td>0</td><td>0</td><td>6</td><td>1</td><td>3.21154</td><td>1.72672</td></tr><tr><th>10</th><td>2</td><td>78</td><td>0</td><td>0</td><td>0</td><td>6</td><td>1</td><td>4.21154</td><td>1.68991</td></tr><tr><th>11</th><td>2</td><td>80</td><td>0</td><td>0</td><td>0</td><td>6</td><td>1</td><td>6.09615</td><td>1.72696</td></tr><tr><th>12</th><td>2</td><td>82</td><td>0</td><td>0</td><td>0</td><td>6</td><td>1</td><td>7.66667</td><td>1.80829</td></tr><tr><th>13</th><td>2</td><td>83</td><td>0</td><td>0</td><td>0</td><td>6</td><td>1</td><td>8.58333</td><td>1.86342</td></tr><tr><th>14</th><td>2</td><td>85</td><td>0</td><td>0</td><td>0</td><td>6</td><td>1</td><td>10.1795</td><td>1.78937</td></tr><tr><th>15</th><td>2</td><td>87</td><td>0</td><td>0</td><td>0</td><td>6</td><td>1</td><td>12.1795</td><td>1.84653</td></tr><tr><th>16</th><td>2</td><td>88</td><td>0</td><td>0</td><td>0</td><td>5</td><td>1</td><td>13.6218</td><td>1.85645</td></tr><tr><th>17</th><td>3</td><td>71</td><td>1</td><td>0</td><td>0</td><td>3</td><td>0</td><td>3.44231</td><td>1.54742</td></tr><tr><th>18</th><td>3</td><td>72</td><td>1</td><td>0</td><td>0</td><td>3</td><td>0</td><td>4.44231</td><td>1.60729</td></tr><tr><th>19</th><td>3</td><td>73</td><td>1</td><td>0</td><td>0</td><td>3</td><td>0</td><td>5.38462</td><td>1.59727</td></tr><tr><th>20</th><td>3</td><td>77</td><td>1</td><td>0</td><td>0</td><td>3</td><td>0</td><td>6.94231</td><td>1.62284</td></tr><tr><th>21</th><td>3</td><td>78</td><td>1</td><td>0</td><td>0</td><td>3</td><td>0</td><td>7.98077</td><td>1.56663</td></tr><tr><th>22</th><td>3</td><td>80</td><td>1</td><td>0</td><td>0</td><td>3</td><td>0</td><td>9.86539</td><td>1.55972</td></tr><tr><th>23</th><td>3</td><td>82</td><td>1</td><td>0</td><td>0</td><td>3</td><td>0</td><td>11.75</td><td>1.60342</td></tr><tr><th>24</th><td>3</td><td>83</td><td>1</td><td>0</td><td>0</td><td>3</td><td>0</td><td>12.6154</td><td>1.61423</td></tr><tr><th>25</th><td>3</td><td>85</td><td>1</td><td>0</td><td>0</td><td>3</td><td>0</td><td>14.6154</td><td>1.7308</td></tr><tr><th>26</th><td>3</td><td>87</td><td>1</td><td>0</td><td>0</td><td>3</td><td>0</td><td>16.3462</td><td>1.52577</td></tr><tr><th>27</th><td>4</td><td>70</td><td>1</td><td>0</td><td>0</td><td>13</td><td>1</td><td>2.25</td><td>2.2885</td></tr><tr><th>28</th><td>4</td><td>71</td><td>0</td><td>0</td><td>0</td><td>13</td><td>1</td><td>3.19231</td><td>2.37558</td></tr><tr><th>29</th><td>4</td><td>72</td><td>0</td><td>0</td><td>0</td><td>13</td><td>1</td><td>4.21154</td><td>2.41392</td></tr><tr><th>30</th><td>4</td><td>80</td><td>0</td><td>0</td><td>0</td><td>13</td><td>0</td><td>5.69231</td><td>1.47624</td></tr><tr><th>&vellip;</th><td>&vellip;</td><td>&vellip;</td><td>&vellip;</td><td>&vellip;</td><td>&vellip;</td><td>&vellip;</td><td>&vellip;</td><td>&vellip;</td><td>&vellip;</td></tr></tbody></table></div>"
      ],
      "text/latex": [
       "\\begin{tabular}{r|ccccccccc}\n",
       "\t& idcode & year & nev\\_mar & not\\_smsa & south & occ\\_code & union & ttl\\_exp & ln\\_wage\\\\\n",
       "\t\\hline\n",
       "\t& Int16? & Int8? & Int8? & Int8? & Int8? & Int8? & Int8? & Float32? & Float32?\\\\\n",
       "\t\\hline\n",
       "\t1 & 1 & 72 & 0 & 0 & 0 & 6 & 1 & 2.25641 & 1.58998 \\\\\n",
       "\t2 & 1 & 77 & 0 & 0 & 0 & 8 & 0 & 3.77564 & 1.77868 \\\\\n",
       "\t3 & 1 & 80 & 0 & 0 & 0 & 6 & 1 & 5.29487 & 2.55172 \\\\\n",
       "\t4 & 1 & 83 & 0 & 0 & 0 & 6 & 1 & 5.29487 & 2.42026 \\\\\n",
       "\t5 & 1 & 85 & 0 & 0 & 0 & 6 & 1 & 7.16026 & 2.61417 \\\\\n",
       "\t6 & 1 & 87 & 0 & 0 & 0 & 6 & 1 & 8.98718 & 2.53637 \\\\\n",
       "\t7 & 1 & 88 & 0 & 0 & 0 & 6 & 1 & 10.3333 & 2.46293 \\\\\n",
       "\t8 & 2 & 71 & 0 & 0 & 0 & 3 & 0 & 0.711538 & 1.36035 \\\\\n",
       "\t9 & 2 & 77 & 0 & 0 & 0 & 6 & 1 & 3.21154 & 1.72672 \\\\\n",
       "\t10 & 2 & 78 & 0 & 0 & 0 & 6 & 1 & 4.21154 & 1.68991 \\\\\n",
       "\t11 & 2 & 80 & 0 & 0 & 0 & 6 & 1 & 6.09615 & 1.72696 \\\\\n",
       "\t12 & 2 & 82 & 0 & 0 & 0 & 6 & 1 & 7.66667 & 1.80829 \\\\\n",
       "\t13 & 2 & 83 & 0 & 0 & 0 & 6 & 1 & 8.58333 & 1.86342 \\\\\n",
       "\t14 & 2 & 85 & 0 & 0 & 0 & 6 & 1 & 10.1795 & 1.78937 \\\\\n",
       "\t15 & 2 & 87 & 0 & 0 & 0 & 6 & 1 & 12.1795 & 1.84653 \\\\\n",
       "\t16 & 2 & 88 & 0 & 0 & 0 & 5 & 1 & 13.6218 & 1.85645 \\\\\n",
       "\t17 & 3 & 71 & 1 & 0 & 0 & 3 & 0 & 3.44231 & 1.54742 \\\\\n",
       "\t18 & 3 & 72 & 1 & 0 & 0 & 3 & 0 & 4.44231 & 1.60729 \\\\\n",
       "\t19 & 3 & 73 & 1 & 0 & 0 & 3 & 0 & 5.38462 & 1.59727 \\\\\n",
       "\t20 & 3 & 77 & 1 & 0 & 0 & 3 & 0 & 6.94231 & 1.62284 \\\\\n",
       "\t21 & 3 & 78 & 1 & 0 & 0 & 3 & 0 & 7.98077 & 1.56663 \\\\\n",
       "\t22 & 3 & 80 & 1 & 0 & 0 & 3 & 0 & 9.86539 & 1.55972 \\\\\n",
       "\t23 & 3 & 82 & 1 & 0 & 0 & 3 & 0 & 11.75 & 1.60342 \\\\\n",
       "\t24 & 3 & 83 & 1 & 0 & 0 & 3 & 0 & 12.6154 & 1.61423 \\\\\n",
       "\t25 & 3 & 85 & 1 & 0 & 0 & 3 & 0 & 14.6154 & 1.7308 \\\\\n",
       "\t26 & 3 & 87 & 1 & 0 & 0 & 3 & 0 & 16.3462 & 1.52577 \\\\\n",
       "\t27 & 4 & 70 & 1 & 0 & 0 & 13 & 1 & 2.25 & 2.2885 \\\\\n",
       "\t28 & 4 & 71 & 0 & 0 & 0 & 13 & 1 & 3.19231 & 2.37558 \\\\\n",
       "\t29 & 4 & 72 & 0 & 0 & 0 & 13 & 1 & 4.21154 & 2.41392 \\\\\n",
       "\t30 & 4 & 80 & 0 & 0 & 0 & 13 & 0 & 5.69231 & 1.47624 \\\\\n",
       "\t$\\dots$ & $\\dots$ & $\\dots$ & $\\dots$ & $\\dots$ & $\\dots$ & $\\dots$ & $\\dots$ & $\\dots$ & $\\dots$ \\\\\n",
       "\\end{tabular}\n"
      ],
      "text/plain": [
       "\u001b[1m19151×9 DataFrame\u001b[0m\n",
       "\u001b[1m   Row \u001b[0m│\u001b[1m idcode \u001b[0m\u001b[1m year  \u001b[0m\u001b[1m nev_mar \u001b[0m\u001b[1m not_smsa \u001b[0m\u001b[1m south \u001b[0m\u001b[1m occ_code \u001b[0m\u001b[1m union \u001b[0m\u001b[1m ttl_exp   \u001b[0m\u001b[1m \u001b[0m ⋯\n",
       "\u001b[1m       \u001b[0m│\u001b[90m Int16? \u001b[0m\u001b[90m Int8? \u001b[0m\u001b[90m Int8?   \u001b[0m\u001b[90m Int8?    \u001b[0m\u001b[90m Int8? \u001b[0m\u001b[90m Int8?    \u001b[0m\u001b[90m Int8? \u001b[0m\u001b[90m Float32?  \u001b[0m\u001b[90m \u001b[0m ⋯\n",
       "───────┼────────────────────────────────────────────────────────────────────────\n",
       "     1 │      1     72        0         0      0         6      1   2.25641    ⋯\n",
       "     2 │      1     77        0         0      0         8      0   3.77564\n",
       "     3 │      1     80        0         0      0         6      1   5.29487\n",
       "     4 │      1     83        0         0      0         6      1   5.29487\n",
       "     5 │      1     85        0         0      0         6      1   7.16026    ⋯\n",
       "     6 │      1     87        0         0      0         6      1   8.98718\n",
       "     7 │      1     88        0         0      0         6      1  10.3333\n",
       "     8 │      2     71        0         0      0         3      0   0.711538\n",
       "     9 │      2     77        0         0      0         6      1   3.21154    ⋯\n",
       "    10 │      2     78        0         0      0         6      1   4.21154\n",
       "    11 │      2     80        0         0      0         6      1   6.09615\n",
       "   ⋮   │   ⋮       ⋮       ⋮        ⋮        ⋮       ⋮        ⋮        ⋮       ⋱\n",
       " 19142 │   5157     83        0         1      1         8      0   7.39103\n",
       " 19143 │   5157     85        0         1      1         8      0   8.85256    ⋯\n",
       " 19144 │   5157     88        0         1      1         8      0  11.1603\n",
       " 19145 │   5159     77        0         0      1         3      0   2.08333\n",
       " 19146 │   5159     78        0         0      1         3      1   3.0\n",
       " 19147 │   5159     80        0         0      1         3      1   5.0        ⋯\n",
       " 19148 │   5159     82        0         0      1         3      0   7.0\n",
       " 19149 │   5159     83        0         0      1         3      1   8.07692\n",
       " 19150 │   5159     85        0         0      1         3      1   9.07692\n",
       " 19151 │   5159     88        0         0      1         3      1  10.5962     ⋯\n",
       "\u001b[36m                                                 1 column and 19130 rows omitted\u001b[0m"
      ]
     },
     "execution_count": 1,
     "metadata": {},
     "output_type": "execute_result"
    }
   ],
   "source": [
    "VERSION\n",
    "using RData, DelimitedFiles, FixedEffectModels, DataFrames, CSV, RDatasets, ReadStat, StatFiles\n",
    "Jdata = DataFrame(load(\"nlswork_regression.dta\"))"
   ]
  },
  {
   "cell_type": "code",
   "execution_count": null,
   "metadata": {},
   "outputs": [],
   "source": [
    "@elapsed Julia_Wages = reg(Jdata, @formula(ln_wage ~ ttl_exp + union + not_smsa + nev_mar + fe(idcode) + fe(year)))"
   ]
  },
  {
   "cell_type": "code",
   "execution_count": null,
   "metadata": {},
   "outputs": [],
   "source": [
    "Julia_Wages"
   ]
  }
 ],
 "metadata": {
  "kernelspec": {
   "display_name": "Julia4171",
   "language": "julia",
   "name": "julia4171"
  },
  "language_info": {
   "file_extension": ".jl",
   "mimetype": "application/julia",
   "name": "julia",
   "version": "1.7.1"
  },
  "vscode": {
   "interpreter": {
    "hash": "9650cb4e16cdd4a8e8e2d128bf38d875813998db22a3c986335f89e0cb4d7bb2"
   }
  },
  "widgets": {
   "application/vnd.jupyter.widget-state+json": {
    "state": {},
    "version_major": 2,
    "version_minor": 0
   }
  }
 },
 "nbformat": 4,
 "nbformat_minor": 4
}
