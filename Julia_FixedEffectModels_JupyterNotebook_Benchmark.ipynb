{
 "cells": [
  {
   "cell_type": "markdown",
   "metadata": {},
   "source": [
    "# Benchmark:\n",
    "- Julia version: 1.2.0\n",
    "- Author: laurent.berge\n",
    "- Date: 2019-11-13\n",
    "- ~: Replication in Julia\n",
    "\n",
    "- Julia version: 1.7.1\n",
    "- Author 2: Miguel Portela\n",
    "- Date: 2022-06-20"
   ]
  },
  {
   "cell_type": "code",
   "execution_count": 4,
   "metadata": {},
   "outputs": [
    {
     "data": {
      "text/plain": [
       "v\"1.7.1\""
      ]
     },
     "execution_count": 4,
     "metadata": {},
     "output_type": "execute_result"
    }
   ],
   "source": [
    "VERSION"
   ]
  },
  {
   "cell_type": "code",
   "execution_count": 5,
   "metadata": {},
   "outputs": [
    {
     "data": {
      "text/plain": [
       "\"/Users/miguelportela/Documents/GitHub/fixed_effects_estimation/PRJS\""
      ]
     },
     "execution_count": 5,
     "metadata": {},
     "output_type": "execute_result"
    }
   ],
   "source": [
    "cd(\"/Users/miguelportela/Documents/GitHub/HDFE\")\n",
    "homedir()\n",
    "pwd()"
   ]
  },
  {
   "cell_type": "code",
   "execution_count": 6,
   "metadata": {},
   "outputs": [],
   "source": [
    "import Pkg"
   ]
  },
  {
   "cell_type": "code",
   "execution_count": 7,
   "metadata": {},
   "outputs": [
    {
     "name": "stderr",
     "output_type": "stream",
     "text": [
      "\u001b[32m\u001b[1m   Resolving\u001b[22m\u001b[39m package versions...\n",
      "\u001b[32m\u001b[1m  No Changes\u001b[22m\u001b[39m to `~/opt/anaconda3/envs/mypython310/share/julia/environments/mypython310/Project.toml`\n",
      "\u001b[32m\u001b[1m  No Changes\u001b[22m\u001b[39m to `~/opt/anaconda3/envs/mypython310/share/julia/environments/mypython310/Manifest.toml`\n"
     ]
    }
   ],
   "source": [
    "#Pkg.add(\"RDatasets\")\n",
    "#Pkg.add(\"ReadStat\")\n",
    "#Pkg.add(\"StatFiles\")\n",
    "#Pkg.add(\"CSV\")"
   ]
  },
  {
   "cell_type": "code",
   "execution_count": 8,
   "metadata": {},
   "outputs": [
    {
     "name": "stdout",
     "output_type": "stream",
     "text": [
      "Loading packages...\n",
      "done.\n"
     ]
    }
   ],
   "source": [
    "println(\"Loading packages...\")\n",
    "using RData, DelimitedFiles, FixedEffectModels, DataFrames, CSV, RDatasets, ReadStat, StatFiles, CSV\n",
    "println(\"done.\")"
   ]
  },
  {
   "cell_type": "code",
   "execution_count": 9,
   "metadata": {},
   "outputs": [
    {
     "data": {
      "text/html": [
       "<div class=\"data-frame\"><p>28,534 rows × 21 columns (omitted printing of 11 columns)</p><table class=\"data-frame\"><thead><tr><th></th><th>idcode</th><th>year</th><th>birth_yr</th><th>age</th><th>race</th><th>msp</th><th>nev_mar</th><th>grade</th><th>collgrad</th><th>not_smsa</th></tr><tr><th></th><th title=\"Int64\">Int64</th><th title=\"Int64\">Int64</th><th title=\"Int64\">Int64</th><th title=\"Union{Missing, Int64}\">Int64?</th><th title=\"String7\">String7</th><th title=\"Union{Missing, Int64}\">Int64?</th><th title=\"Union{Missing, Int64}\">Int64?</th><th title=\"Union{Missing, Int64}\">Int64?</th><th title=\"Int64\">Int64</th><th title=\"Union{Missing, Int64}\">Int64?</th></tr></thead><tbody><tr><th>1</th><td>1</td><td>70</td><td>51</td><td>18</td><td>Black</td><td>0</td><td>1</td><td>12</td><td>0</td><td>0</td></tr><tr><th>2</th><td>1</td><td>71</td><td>51</td><td>19</td><td>Black</td><td>1</td><td>0</td><td>12</td><td>0</td><td>0</td></tr><tr><th>3</th><td>1</td><td>72</td><td>51</td><td>20</td><td>Black</td><td>1</td><td>0</td><td>12</td><td>0</td><td>0</td></tr><tr><th>4</th><td>1</td><td>73</td><td>51</td><td>21</td><td>Black</td><td>1</td><td>0</td><td>12</td><td>0</td><td>0</td></tr><tr><th>5</th><td>1</td><td>75</td><td>51</td><td>23</td><td>Black</td><td>1</td><td>0</td><td>12</td><td>0</td><td>0</td></tr><tr><th>6</th><td>1</td><td>77</td><td>51</td><td>25</td><td>Black</td><td>0</td><td>0</td><td>12</td><td>0</td><td>0</td></tr><tr><th>7</th><td>1</td><td>78</td><td>51</td><td>26</td><td>Black</td><td>0</td><td>0</td><td>12</td><td>0</td><td>0</td></tr><tr><th>8</th><td>1</td><td>80</td><td>51</td><td>28</td><td>Black</td><td>0</td><td>0</td><td>12</td><td>0</td><td>0</td></tr><tr><th>9</th><td>1</td><td>83</td><td>51</td><td>31</td><td>Black</td><td>0</td><td>0</td><td>12</td><td>0</td><td>0</td></tr><tr><th>10</th><td>1</td><td>85</td><td>51</td><td>33</td><td>Black</td><td>0</td><td>0</td><td>12</td><td>0</td><td>0</td></tr><tr><th>11</th><td>1</td><td>87</td><td>51</td><td>35</td><td>Black</td><td>0</td><td>0</td><td>12</td><td>0</td><td>0</td></tr><tr><th>12</th><td>1</td><td>88</td><td>51</td><td>37</td><td>Black</td><td>0</td><td>0</td><td>12</td><td>0</td><td>0</td></tr><tr><th>13</th><td>2</td><td>71</td><td>51</td><td>19</td><td>Black</td><td>1</td><td>0</td><td>12</td><td>0</td><td>0</td></tr><tr><th>14</th><td>2</td><td>72</td><td>51</td><td>20</td><td>Black</td><td>1</td><td>0</td><td>12</td><td>0</td><td>0</td></tr><tr><th>15</th><td>2</td><td>73</td><td>51</td><td>21</td><td>Black</td><td>1</td><td>0</td><td>12</td><td>0</td><td>0</td></tr><tr><th>16</th><td>2</td><td>75</td><td>51</td><td>23</td><td>Black</td><td>1</td><td>0</td><td>12</td><td>0</td><td>0</td></tr><tr><th>17</th><td>2</td><td>77</td><td>51</td><td>25</td><td>Black</td><td>1</td><td>0</td><td>12</td><td>0</td><td>0</td></tr><tr><th>18</th><td>2</td><td>78</td><td>51</td><td>26</td><td>Black</td><td>1</td><td>0</td><td>12</td><td>0</td><td>0</td></tr><tr><th>19</th><td>2</td><td>80</td><td>51</td><td>28</td><td>Black</td><td>1</td><td>0</td><td>12</td><td>0</td><td>0</td></tr><tr><th>20</th><td>2</td><td>82</td><td>51</td><td>30</td><td>Black</td><td>1</td><td>0</td><td>12</td><td>0</td><td>0</td></tr><tr><th>21</th><td>2</td><td>83</td><td>51</td><td>31</td><td>Black</td><td>1</td><td>0</td><td>12</td><td>0</td><td>0</td></tr><tr><th>22</th><td>2</td><td>85</td><td>51</td><td>33</td><td>Black</td><td>0</td><td>0</td><td>12</td><td>0</td><td>0</td></tr><tr><th>23</th><td>2</td><td>87</td><td>51</td><td>35</td><td>Black</td><td>0</td><td>0</td><td>12</td><td>0</td><td>0</td></tr><tr><th>24</th><td>2</td><td>88</td><td>51</td><td>37</td><td>Black</td><td>0</td><td>0</td><td>12</td><td>0</td><td>0</td></tr><tr><th>25</th><td>3</td><td>68</td><td>45</td><td>22</td><td>Black</td><td>0</td><td>1</td><td>12</td><td>0</td><td>0</td></tr><tr><th>26</th><td>3</td><td>69</td><td>45</td><td>23</td><td>Black</td><td>0</td><td>1</td><td>12</td><td>0</td><td>0</td></tr><tr><th>27</th><td>3</td><td>70</td><td>45</td><td>24</td><td>Black</td><td>0</td><td>1</td><td>12</td><td>0</td><td>0</td></tr><tr><th>28</th><td>3</td><td>71</td><td>45</td><td>25</td><td>Black</td><td>0</td><td>1</td><td>12</td><td>0</td><td>0</td></tr><tr><th>29</th><td>3</td><td>72</td><td>45</td><td>26</td><td>Black</td><td>0</td><td>1</td><td>12</td><td>0</td><td>0</td></tr><tr><th>30</th><td>3</td><td>73</td><td>45</td><td>27</td><td>Black</td><td>0</td><td>1</td><td>12</td><td>0</td><td>0</td></tr><tr><th>&vellip;</th><td>&vellip;</td><td>&vellip;</td><td>&vellip;</td><td>&vellip;</td><td>&vellip;</td><td>&vellip;</td><td>&vellip;</td><td>&vellip;</td><td>&vellip;</td><td>&vellip;</td></tr></tbody></table></div>"
      ],
      "text/latex": [
       "\\begin{tabular}{r|ccccccccccc}\n",
       "\t& idcode & year & birth\\_yr & age & race & msp & nev\\_mar & grade & collgrad & not\\_smsa & \\\\\n",
       "\t\\hline\n",
       "\t& Int64 & Int64 & Int64 & Int64? & String7 & Int64? & Int64? & Int64? & Int64 & Int64? & \\\\\n",
       "\t\\hline\n",
       "\t1 & 1 & 70 & 51 & 18 & Black & 0 & 1 & 12 & 0 & 0 & $\\dots$ \\\\\n",
       "\t2 & 1 & 71 & 51 & 19 & Black & 1 & 0 & 12 & 0 & 0 & $\\dots$ \\\\\n",
       "\t3 & 1 & 72 & 51 & 20 & Black & 1 & 0 & 12 & 0 & 0 & $\\dots$ \\\\\n",
       "\t4 & 1 & 73 & 51 & 21 & Black & 1 & 0 & 12 & 0 & 0 & $\\dots$ \\\\\n",
       "\t5 & 1 & 75 & 51 & 23 & Black & 1 & 0 & 12 & 0 & 0 & $\\dots$ \\\\\n",
       "\t6 & 1 & 77 & 51 & 25 & Black & 0 & 0 & 12 & 0 & 0 & $\\dots$ \\\\\n",
       "\t7 & 1 & 78 & 51 & 26 & Black & 0 & 0 & 12 & 0 & 0 & $\\dots$ \\\\\n",
       "\t8 & 1 & 80 & 51 & 28 & Black & 0 & 0 & 12 & 0 & 0 & $\\dots$ \\\\\n",
       "\t9 & 1 & 83 & 51 & 31 & Black & 0 & 0 & 12 & 0 & 0 & $\\dots$ \\\\\n",
       "\t10 & 1 & 85 & 51 & 33 & Black & 0 & 0 & 12 & 0 & 0 & $\\dots$ \\\\\n",
       "\t11 & 1 & 87 & 51 & 35 & Black & 0 & 0 & 12 & 0 & 0 & $\\dots$ \\\\\n",
       "\t12 & 1 & 88 & 51 & 37 & Black & 0 & 0 & 12 & 0 & 0 & $\\dots$ \\\\\n",
       "\t13 & 2 & 71 & 51 & 19 & Black & 1 & 0 & 12 & 0 & 0 & $\\dots$ \\\\\n",
       "\t14 & 2 & 72 & 51 & 20 & Black & 1 & 0 & 12 & 0 & 0 & $\\dots$ \\\\\n",
       "\t15 & 2 & 73 & 51 & 21 & Black & 1 & 0 & 12 & 0 & 0 & $\\dots$ \\\\\n",
       "\t16 & 2 & 75 & 51 & 23 & Black & 1 & 0 & 12 & 0 & 0 & $\\dots$ \\\\\n",
       "\t17 & 2 & 77 & 51 & 25 & Black & 1 & 0 & 12 & 0 & 0 & $\\dots$ \\\\\n",
       "\t18 & 2 & 78 & 51 & 26 & Black & 1 & 0 & 12 & 0 & 0 & $\\dots$ \\\\\n",
       "\t19 & 2 & 80 & 51 & 28 & Black & 1 & 0 & 12 & 0 & 0 & $\\dots$ \\\\\n",
       "\t20 & 2 & 82 & 51 & 30 & Black & 1 & 0 & 12 & 0 & 0 & $\\dots$ \\\\\n",
       "\t21 & 2 & 83 & 51 & 31 & Black & 1 & 0 & 12 & 0 & 0 & $\\dots$ \\\\\n",
       "\t22 & 2 & 85 & 51 & 33 & Black & 0 & 0 & 12 & 0 & 0 & $\\dots$ \\\\\n",
       "\t23 & 2 & 87 & 51 & 35 & Black & 0 & 0 & 12 & 0 & 0 & $\\dots$ \\\\\n",
       "\t24 & 2 & 88 & 51 & 37 & Black & 0 & 0 & 12 & 0 & 0 & $\\dots$ \\\\\n",
       "\t25 & 3 & 68 & 45 & 22 & Black & 0 & 1 & 12 & 0 & 0 & $\\dots$ \\\\\n",
       "\t26 & 3 & 69 & 45 & 23 & Black & 0 & 1 & 12 & 0 & 0 & $\\dots$ \\\\\n",
       "\t27 & 3 & 70 & 45 & 24 & Black & 0 & 1 & 12 & 0 & 0 & $\\dots$ \\\\\n",
       "\t28 & 3 & 71 & 45 & 25 & Black & 0 & 1 & 12 & 0 & 0 & $\\dots$ \\\\\n",
       "\t29 & 3 & 72 & 45 & 26 & Black & 0 & 1 & 12 & 0 & 0 & $\\dots$ \\\\\n",
       "\t30 & 3 & 73 & 45 & 27 & Black & 0 & 1 & 12 & 0 & 0 & $\\dots$ \\\\\n",
       "\t$\\dots$ & $\\dots$ & $\\dots$ & $\\dots$ & $\\dots$ & $\\dots$ & $\\dots$ & $\\dots$ & $\\dots$ & $\\dots$ & $\\dots$ &  \\\\\n",
       "\\end{tabular}\n"
      ],
      "text/plain": [
       "\u001b[1m28534×21 DataFrame\u001b[0m\n",
       "\u001b[1m   Row \u001b[0m│\u001b[1m idcode \u001b[0m\u001b[1m year  \u001b[0m\u001b[1m birth_yr \u001b[0m\u001b[1m age    \u001b[0m\u001b[1m race    \u001b[0m\u001b[1m msp    \u001b[0m\u001b[1m nev_mar \u001b[0m\u001b[1m grade  \u001b[0m\u001b[1m co\u001b[0m ⋯\n",
       "\u001b[1m       \u001b[0m│\u001b[90m Int64  \u001b[0m\u001b[90m Int64 \u001b[0m\u001b[90m Int64    \u001b[0m\u001b[90m Int64? \u001b[0m\u001b[90m String7 \u001b[0m\u001b[90m Int64? \u001b[0m\u001b[90m Int64?  \u001b[0m\u001b[90m Int64? \u001b[0m\u001b[90m In\u001b[0m ⋯\n",
       "───────┼────────────────────────────────────────────────────────────────────────\n",
       "     1 │      1     70        51      18  Black         0        1      12     ⋯\n",
       "     2 │      1     71        51      19  Black         1        0      12\n",
       "     3 │      1     72        51      20  Black         1        0      12\n",
       "     4 │      1     73        51      21  Black         1        0      12\n",
       "     5 │      1     75        51      23  Black         1        0      12     ⋯\n",
       "     6 │      1     77        51      25  Black         0        0      12\n",
       "     7 │      1     78        51      26  Black         0        0      12\n",
       "     8 │      1     80        51      28  Black         0        0      12\n",
       "     9 │      1     83        51      31  Black         0        0      12     ⋯\n",
       "    10 │      1     85        51      33  Black         0        0      12\n",
       "    11 │      1     87        51      35  Black         0        0      12\n",
       "   ⋮   │   ⋮       ⋮       ⋮        ⋮        ⋮       ⋮        ⋮       ⋮        ⋱\n",
       " 28525 │   5157     88        49      38  Black         1        0      12\n",
       " 28526 │   5158     68        44      24  Black         1        0      10     ⋯\n",
       " 28527 │   5158     69        44      24  Black         1        0      10\n",
       " 28528 │   5159     77        44      32  Black         1        0      12\n",
       " 28529 │   5159     78        44      33  Black         1        0      12\n",
       " 28530 │   5159     80        44      35  Black         0        0      12     ⋯\n",
       " 28531 │   5159     82        44      37  Black         0        0      12\n",
       " 28532 │   5159     83        44      38  Black         0        0      12\n",
       " 28533 │   5159     85        44      40  Black         0        0      12\n",
       " 28534 │   5159     88        44      43  Black         0        0      12     ⋯\n",
       "\u001b[36m                                               13 columns and 28513 rows omitted\u001b[0m"
      ]
     },
     "execution_count": 9,
     "metadata": {},
     "output_type": "execute_result"
    }
   ],
   "source": [
    "#nlswork = read_dta(\"nlswork_regression.dta\")\n",
    "nlswork = CSV.read(\"nlswork_regression.csv\", DataFrame)\n",
    "#nlswork = DataFrame(load(\"nlswork_regression.dta\"))"
   ]
  },
  {
   "cell_type": "code",
   "execution_count": 14,
   "metadata": {},
   "outputs": [
    {
     "data": {
      "text/plain": [
       "0.307732959"
      ]
     },
     "execution_count": 14,
     "metadata": {},
     "output_type": "execute_result"
    }
   ],
   "source": [
    "timings_base = @elapsed reg(nlswork, @formula(ln_wage ~ ttl_exp + union + not_smsa + nev_mar + fe(idcode) + fe(year)))\n",
    "#reg(nlswork, @formula(ln_wage ~ ttl_exp + union + not_smsa + nev_mar + fe(idcode) + fe(year)))"
   ]
  },
  {
   "cell_type": "code",
   "execution_count": 19,
   "metadata": {},
   "outputs": [
    {
     "data": {
      "text/plain": [
       "0.317983375"
      ]
     },
     "execution_count": 19,
     "metadata": {},
     "output_type": "execute_result"
    }
   ],
   "source": [
    "@elapsed HDFE4 = reg(nlswork, @formula(ln_wage ~ ttl_exp + union + not_smsa + nev_mar + fe(idcode) + fe(year)))"
   ]
  },
  {
   "cell_type": "code",
   "execution_count": 20,
   "metadata": {},
   "outputs": [
    {
     "data": {
      "text/plain": [
       "                           Fixed Effect Model                           \n",
       "=========================================================================\n",
       "Number of obs:                18558   Degrees of freedom:            3500\n",
       "R2:                           0.756   R2 Adjusted:                  0.700\n",
       "F-Stat:                     266.997   p-value:                      0.000\n",
       "R2 within:                    0.066   Iterations:                      11\n",
       "=========================================================================\n",
       "ln_wage  |   Estimate  Std.Error  t value Pr(>|t|)  Lower 95%   Upper 95%\n",
       "-------------------------------------------------------------------------\n",
       "ttl_exp  |  0.0436694 0.00159399  27.3963    0.000   0.040545   0.0467938\n",
       "union    |   0.100953 0.00691049  14.6086    0.000  0.0874072    0.114498\n",
       "not_smsa | -0.0942986  0.0123715 -7.62227    0.000  -0.118548   -0.070049\n",
       "nev_mar  | -0.0209187  0.0102182 -2.04721    0.041 -0.0409476 -0.00088992\n",
       "=========================================================================\n"
      ]
     },
     "execution_count": 20,
     "metadata": {},
     "output_type": "execute_result"
    }
   ],
   "source": [
    "HDFE4"
   ]
  },
  {
   "cell_type": "code",
   "execution_count": 14,
   "metadata": {},
   "outputs": [
    {
     "data": {
      "text/plain": [
       "                           Fixed Effect Model                           \n",
       "========================================================================\n",
       "Number of obs:                 1380  Degrees of freedom:              32\n",
       "R2:                           0.803  R2 Adjusted:                  0.798\n",
       "F-Stat:                     13.3382  p-value:                      0.001\n",
       "R2 within:                    0.139  Iterations:                       5\n",
       "========================================================================\n",
       "Sales |    Estimate  Std.Error  t value Pr(>|t|)   Lower 95%   Upper 95%\n",
       "------------------------------------------------------------------------\n",
       "NDI   | -0.00526264 0.00144097 -3.65216    0.000 -0.00808942 -0.00243586\n",
       "========================================================================\n"
      ]
     },
     "execution_count": 14,
     "metadata": {},
     "output_type": "execute_result"
    }
   ],
   "source": [
    "df = dataset(\"plm\", \"Cigar\")\n",
    "reg(df, @formula(Sales ~ NDI + fe(State) + fe(Year)), Vcov.cluster(:State), weights = :Pop)"
   ]
  },
  {
   "cell_type": "code",
   "execution_count": 15,
   "metadata": {},
   "outputs": [
    {
     "name": "stdout",
     "output_type": "stream",
     "text": [
      "Loading data...\n",
      ".\n",
      "done.\n"
     ]
    }
   ],
   "source": [
    "println(\"Loading data...\")\n",
    "base_all = load(\"DATA/base_all_simulations.RData\", convert=true);\n",
    "base_all = base_all[\"base_all\"];\n",
    "println(\".\")\n",
    "base_10M = CSV.read(\"DATA/base_10M.csv\", DataFrame)\n",
    "println(\"done.\")"
   ]
  },
  {
   "cell_type": "markdown",
   "metadata": {},
   "source": [
    "# warming up"
   ]
  },
  {
   "cell_type": "code",
   "execution_count": 16,
   "metadata": {},
   "outputs": [
    {
     "name": "stdout",
     "output_type": "stream",
     "text": [
      "warming up...\n",
      "done.\n"
     ]
    }
   ],
   "source": [
    "println(\"warming up...\")\n",
    "base = base_all[1]\n",
    "test = @elapsed reg(base, @formula(ln_y~X1 + fe(dum_1)))\n",
    "println(\"done.\")"
   ]
  },
  {
   "cell_type": "markdown",
   "metadata": {},
   "source": [
    "# 1 FE\n",
    "\n",
    "# We run all the models"
   ]
  },
  {
   "cell_type": "code",
   "execution_count": 6,
   "metadata": {},
   "outputs": [
    {
     "name": "stdout",
     "output_type": "stream",
     "text": [
      "One FE.\n",
      "i = 1\n",
      "(1000, 6)i = 2\n",
      "(10000, 6)i = 3\n",
      "(100000, 6)i = 4\n",
      "(1000000, 6)i = 5\n",
      "(1000, 6)i = 6\n",
      "(10000, 6)i = 7\n",
      "(100000, 6)i = 8\n",
      "(1000000, 6)i = 9\n",
      "(1000, 6)i = 10\n",
      "(10000, 6)i = 11\n",
      "(100000, 6)i = 12\n",
      "(1000000, 6)i = 13\n",
      "(1000, 6)i = 14\n",
      "(10000, 6)i = 15\n",
      "(100000, 6)i = 16\n",
      "(1000000, 6)i = 17\n",
      "(1000, 6)i = 18\n",
      "(10000, 6)i = 19\n",
      "(100000, 6)i = 20\n",
      "(1000000, 6)i = 21\n",
      "(1000, 6)i = 22\n",
      "(10000, 6)i = 23\n",
      "(100000, 6)i = 24\n",
      "(1000000, 6)i = 25\n",
      "(1000, 6)i = 26\n",
      "(10000, 6)i = 27\n",
      "(100000, 6)i = 28\n",
      "(1000000, 6)i = 29\n",
      "(1000, 6)i = 30\n",
      "(10000, 6)i = 31\n",
      "(100000, 6)i = 32\n",
      "(1000000, 6)i = 33\n",
      "(1000, 6)i = 34\n",
      "(10000, 6)i = 35\n",
      "(100000, 6)i = 36\n",
      "(1000000, 6)i = 37\n",
      "(1000, 6)i = 38\n",
      "(10000, 6)i = 39\n",
      "(100000, 6)i = 40\n",
      "(1000000, 6)"
     ]
    }
   ],
   "source": [
    "println(\"One FE.\")\n",
    "timings = Vector{Float64}(undef, 50)\n",
    "for i=1:40\n",
    "    println(\"i = \", i)\n",
    "    base = base_all[i]\n",
    "    print(size(base))\n",
    "    timings[i] = @elapsed reg(base, @formula(ln_y~X1 + fe(dum_1)))\n",
    "end"
   ]
  },
  {
   "cell_type": "markdown",
   "metadata": {},
   "source": [
    "# The 10M DB"
   ]
  },
  {
   "cell_type": "code",
   "execution_count": 7,
   "metadata": {},
   "outputs": [
    {
     "name": "stdout",
     "output_type": "stream",
     "text": [
      "i = 41\n",
      "i = 42\n",
      "i = 43\n",
      "i = 44\n",
      "i = 45\n",
      "i = 46\n",
      "i = 47\n",
      "i = 48\n",
      "i = 49\n",
      "i = 50\n"
     ]
    }
   ],
   "source": [
    "for i=1:10\n",
    "    println(\"i = \", i + 40)\n",
    "    timings[i + 40] = @elapsed reg(base_10M, @formula(ln_y~X1 + fe(dum_1)))\n",
    "end"
   ]
  },
  {
   "cell_type": "markdown",
   "metadata": {},
   "source": [
    "# saving"
   ]
  },
  {
   "cell_type": "code",
   "execution_count": 8,
   "metadata": {},
   "outputs": [],
   "source": [
    "open(\"DATA/julia_bench_1FE.txt\", \"w\") do io\n",
    "           writedlm(io, timings)\n",
    "       end"
   ]
  },
  {
   "cell_type": "markdown",
   "metadata": {},
   "source": [
    "# 2 FE"
   ]
  },
  {
   "cell_type": "code",
   "execution_count": 9,
   "metadata": {},
   "outputs": [
    {
     "name": "stdout",
     "output_type": "stream",
     "text": [
      "Two FEs.\n",
      "i = 1\n",
      "i = 2\n",
      "i = 3\n",
      "i = 4\n",
      "i = 5\n",
      "i = 6\n",
      "i = 7\n",
      "i = 8\n",
      "i = 9\n",
      "i = 10\n",
      "i = 11\n",
      "i = 12\n",
      "i = 13\n",
      "i = 14\n",
      "i = 15\n",
      "i = 16\n",
      "i = 17\n",
      "i = 18\n",
      "i = 19\n",
      "i = 20\n",
      "i = 21\n",
      "i = 22\n",
      "i = 23\n",
      "i = 24\n",
      "i = 25\n",
      "i = 26\n",
      "i = 27\n",
      "i = 28\n",
      "i = 29\n",
      "i = 30\n",
      "i = 31\n",
      "i = 32\n",
      "i = 33\n",
      "i = 34\n",
      "i = 35\n",
      "i = 36\n",
      "i = 37\n",
      "i = 38\n",
      "i = 39\n",
      "i = 40\n",
      "i = 41\n",
      "\u001b[?25h\u001b[2Ki = 42ean Variables:\u001b[22m\u001b[39m [================================>]  2/2\n",
      "\u001b[?25h\u001b[2Ki = 43ean Variables:\u001b[22m\u001b[39m [================================>]  2/2\n",
      "\u001b[?25h\u001b[2Ki = 44ean Variables:\u001b[22m\u001b[39m [================================>]  2/2\n",
      "\u001b[?25h\u001b[2Ki = 45ean Variables:\u001b[22m\u001b[39m [================================>]  2/2\n",
      "\u001b[?25h\u001b[2Ki = 46ean Variables:\u001b[22m\u001b[39m [================================>]  2/2\n",
      "\u001b[?25h\u001b[2Ki = 47ean Variables:\u001b[22m\u001b[39m [================================>]  2/2\n",
      "\u001b[?25h\u001b[2Ki = 48ean Variables:\u001b[22m\u001b[39m [================================>]  2/2\n",
      "\u001b[?25h\u001b[2Ki = 49ean Variables:\u001b[22m\u001b[39m [================================>]  2/2\n",
      "\u001b[?25h\u001b[2Ki = 50ean Variables:\u001b[22m\u001b[39m [================================>]  2/2\n",
      "\u001b[?25h\u001b[2K[1mDemean Variables:\u001b[22m\u001b[39m [================================>]  2/2"
     ]
    }
   ],
   "source": [
    "# We run all the models\n",
    "println(\"Two FEs.\")\n",
    "timings = Vector{Float64}(undef, 50)\n",
    "for i=1:40\n",
    "    println(\"i = \", i)\n",
    "    base = base_all[i]\n",
    "    timings[i] = @elapsed reg(base, @formula(ln_y~X1 + fe(dum_1) + fe(dum_2)))\n",
    "end\n",
    "\n",
    "# The 10M DB\n",
    "for i=1:10\n",
    "    println(\"i = \", i + 40)\n",
    "    timings[i + 40] = @elapsed reg(base_10M, @formula(ln_y~X1 + fe(dum_1) + fe(dum_2)))\n",
    "end\n",
    "\n",
    "# saving\n",
    "open(\"DATA/julia_bench_2FE.txt\", \"w\") do io\n",
    "           writedlm(io, timings)\n",
    "       end"
   ]
  },
  {
   "cell_type": "markdown",
   "metadata": {},
   "source": [
    "# 3 FE"
   ]
  },
  {
   "cell_type": "code",
   "execution_count": 10,
   "metadata": {},
   "outputs": [
    {
     "name": "stdout",
     "output_type": "stream",
     "text": [
      "Three FEs.\n",
      "i = 1\n",
      "i = 2\n",
      "i = 3\n",
      "i = 4\n",
      "i = 5\n",
      "i = 6\n",
      "i = 7\n",
      "i = 8\n",
      "i = 9\n",
      "i = 10\n",
      "i = 11\n",
      "i = 12\n",
      "i = 13\n",
      "i = 14\n",
      "i = 15\n",
      "i = 16\n",
      "i = 17\n",
      "i = 18\n",
      "i = 19\n",
      "i = 20\n",
      "i = 21\n",
      "i = 22\n",
      "i = 23\n",
      "i = 24\n",
      "i = 25\n",
      "i = 26\n",
      "i = 27\n",
      "i = 28\n",
      "i = 29\n",
      "i = 30\n",
      "i = 31\n",
      "i = 32\n",
      "i = 33\n",
      "i = 34\n",
      "i = 35\n",
      "i = 36\n",
      "i = 37\n",
      "i = 38\n",
      "i = 39\n",
      "i = 40\n",
      "i = 41\n",
      "\u001b[?25h\u001b[2Ki = 42ean Variables:\u001b[22m\u001b[39m [================================>]  2/2\n",
      "\u001b[?25h\u001b[2Ki = 43ean Variables:\u001b[22m\u001b[39m [================================>]  2/2\n",
      "\u001b[?25h\u001b[2Ki = 44ean Variables:\u001b[22m\u001b[39m [================================>]  2/2\n",
      "\u001b[?25h\u001b[2Ki = 45ean Variables:\u001b[22m\u001b[39m [================================>]  2/2\n",
      "\u001b[?25h\u001b[2Ki = 46ean Variables:\u001b[22m\u001b[39m [================================>]  2/2\n",
      "\u001b[?25h\u001b[2Ki = 47ean Variables:\u001b[22m\u001b[39m [================================>]  2/2\n",
      "\u001b[?25h\u001b[2Ki = 48ean Variables:\u001b[22m\u001b[39m [================================>]  2/2\n",
      "\u001b[?25h\u001b[2Ki = 49ean Variables:\u001b[22m\u001b[39m [================================>]  2/2\n",
      "\u001b[?25h\u001b[2Ki = 50ean Variables:\u001b[22m\u001b[39m [================================>]  2/2\n",
      "\u001b[?25h\u001b[2K[1mDemean Variables:\u001b[22m\u001b[39m [================================>]  2/2"
     ]
    }
   ],
   "source": [
    "# We run all the models\n",
    "println(\"Three FEs.\")\n",
    "timings = Vector{Float64}(undef, 50)\n",
    "for i=1:40\n",
    "    println(\"i = \", i)\n",
    "    base = base_all[i]\n",
    "    timings[i] = @elapsed reg(base, @formula(ln_y~X1 + fe(dum_1) + fe(dum_2) + fe(dum_3)))\n",
    "end\n",
    "\n",
    "# The 10M DB\n",
    "for i=1:10\n",
    "    println(\"i = \", i + 40)\n",
    "    timings[i + 40] = @elapsed reg(base_10M, @formula(ln_y~X1 + fe(dum_1) + fe(dum_2) + fe(dum_3)))\n",
    "end\n",
    "\n",
    "# saving\n",
    "open(\"DATA/julia_bench_3FE.txt\", \"w\") do io\n",
    "           writedlm(io, timings)\n",
    "       end"
   ]
  },
  {
   "cell_type": "markdown",
   "metadata": {},
   "source": [
    "#\n",
    "# The \"difficult\" data\n",
    "#\n"
   ]
  },
  {
   "cell_type": "code",
   "execution_count": 11,
   "metadata": {},
   "outputs": [
    {
     "name": "stdout",
     "output_type": "stream",
     "text": [
      "Loading difficult data...\n",
      "done.\n",
      "warming up...\n",
      "done.\n",
      "size = 1\n",
      "g = 1\n",
      "g = 2\n",
      "g = 3\n",
      "size = 2\n",
      "g = 1\n",
      "g = 2\n",
      "\u001b[?25h\u001b[2Kg = 3mean Variables:\u001b[22m\u001b[39m [================================>]  3/3    ]  1/3\n",
      "\u001b[?25h\u001b[2Ksize = 3n Variables:\u001b[22m\u001b[39m [================================>]  3/3    ]  1/3\n",
      "g = 1\n",
      "g = 2\n",
      "\u001b[?25h\u001b[2Kg = 3mean Variables:\u001b[22m\u001b[39m [================================>]  3/3    ]  1/3\n",
      "    \u001b[36m\u001b[1mDemean Variables:\u001b[22m\u001b[39m [======================                     ]  1/3"
     ]
    }
   ],
   "source": [
    "println(\"Loading difficult data...\")\n",
    "base_diff = load(\"DATA/base_all_diff.RData\", convert=true);\n",
    "base_diff = base_diff[\"base_all_diff\"];\n",
    "println(\"done.\")\n",
    "\n",
    "# warming up\n",
    "println(\"warming up...\")\n",
    "base = base_diff[1]\n",
    "test = @elapsed reg(base, @formula(y ~ x1 + x2 + fe(id_indiv)))\n",
    "println(\"done.\")\n",
    "\n",
    "timings = Vector{Float64}(undef, 120)\n",
    "\n",
    "global index = 1\n",
    "for size=1:4\n",
    "    println(\"size = \", size)\n",
    "    base = base_diff[size]\n",
    "    for g=1:3\n",
    "        println(\"g = \", g)\n",
    "        for r=1:10\n",
    "            if g == 1\n",
    "                global timings[index] = @elapsed reg(base, @formula(y ~ x1 + x2 + fe(id_indiv)))\n",
    "            elseif g == 2\n",
    "                global timings[index] = @elapsed reg(base, @formula(y ~ x1 + x2 + fe(id_indiv) + fe(id_firm)))\n",
    "            else\n",
    "                global timings[index] = @elapsed reg(base, @formula(y ~ x1 + x2 + fe(id_indiv) + fe(id_firm) + fe(id_year)))\n",
    "            end\n",
    "            global index = index + 1\n",
    "        end\n",
    "    end\n",
    "end\n",
    "\n",
    "# saving\n",
    "open(\"DATA/julia_bench_diff.txt\", \"w\") do io\n",
    "           writedlm(io, timings)\n",
    "       end"
   ]
  }
 ],
 "metadata": {
  "interpreter": {
   "hash": "aee8b7b246df8f9039afb4144a1f6fd8d2ca17a180786b69acc140d282b71a49"
  },
  "kernelspec": {
   "display_name": "Julia4171",
   "language": "julia",
   "name": "julia4171"
  },
  "language_info": {
   "file_extension": ".jl",
   "mimetype": "application/julia",
   "name": "julia",
   "version": "1.7.1"
  },
  "orig_nbformat": 4
 },
 "nbformat": 4,
 "nbformat_minor": 2
}
