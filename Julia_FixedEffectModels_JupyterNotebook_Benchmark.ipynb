{
 "cells": [
  {
   "cell_type": "markdown",
   "metadata": {},
   "source": [
    "# Benchmark:\n",
    "- Julia version: 1.2.0\n",
    "- Author: laurent.berge\n",
    "- Date: 2019-11-13\n",
    "- ~: Replication in Julia\n",
    "\n",
    "- Julia version: 1.7.1\n",
    "- Author 2: Miguel Portela\n",
    "- Date: 2022-06-20"
   ]
  },
  {
   "cell_type": "code",
   "execution_count": 1,
   "metadata": {},
   "outputs": [
    {
     "data": {
      "text/plain": [
       "v\"1.7.1\""
      ]
     },
     "execution_count": 1,
     "metadata": {},
     "output_type": "execute_result"
    }
   ],
   "source": [
    "VERSION"
   ]
  },
  {
   "cell_type": "code",
   "execution_count": 2,
   "metadata": {},
   "outputs": [
    {
     "data": {
      "text/plain": [
       "\"/Users/miguelportela/Documents/GitHub/HDFE\""
      ]
     },
     "execution_count": 2,
     "metadata": {},
     "output_type": "execute_result"
    }
   ],
   "source": [
    "cd(\"/Users/miguelportela/Documents/GitHub/HDFE\")\n",
    "homedir()\n",
    "pwd()"
   ]
  },
  {
   "cell_type": "code",
   "execution_count": 3,
   "metadata": {},
   "outputs": [],
   "source": [
    "import Pkg"
   ]
  },
  {
   "cell_type": "code",
   "execution_count": 4,
   "metadata": {},
   "outputs": [],
   "source": [
    "#Pkg.add(\"RDatasets\")\n",
    "#Pkg.add(\"ReadStat\")\n",
    "#Pkg.add(\"StatFiles\")\n",
    "#Pkg.add(\"CSV\")"
   ]
  },
  {
   "cell_type": "code",
   "execution_count": 5,
   "metadata": {},
   "outputs": [
    {
     "name": "stdout",
     "output_type": "stream",
     "text": [
      "Loading packages...\n",
      "done.\n"
     ]
    }
   ],
   "source": [
    "println(\"Loading packages...\")\n",
    "using RData, DelimitedFiles, FixedEffectModels, DataFrames, CSV, RDatasets, ReadStat, StatFiles\n",
    "println(\"done.\")"
   ]
  },
  {
   "cell_type": "code",
   "execution_count": 6,
   "metadata": {},
   "outputs": [
    {
     "data": {
      "text/html": [
       "<div class=\"data-frame\"><p>19,151 rows × 9 columns</p><table class=\"data-frame\"><thead><tr><th></th><th>idcode</th><th>year</th><th>nev_mar</th><th>not_smsa</th><th>south</th><th>occ_code</th><th>union</th><th>ttl_exp</th><th>ln_wage</th></tr><tr><th></th><th title=\"Int64\">Int64</th><th title=\"Int64\">Int64</th><th title=\"Int64\">Int64</th><th title=\"Int64\">Int64</th><th title=\"Int64\">Int64</th><th title=\"Int64\">Int64</th><th title=\"Int64\">Int64</th><th title=\"Float64\">Float64</th><th title=\"Float64\">Float64</th></tr></thead><tbody><tr><th>1</th><td>1</td><td>72</td><td>0</td><td>0</td><td>0</td><td>6</td><td>1</td><td>2.25641</td><td>1.58998</td></tr><tr><th>2</th><td>1</td><td>77</td><td>0</td><td>0</td><td>0</td><td>8</td><td>0</td><td>3.77564</td><td>1.77868</td></tr><tr><th>3</th><td>1</td><td>80</td><td>0</td><td>0</td><td>0</td><td>6</td><td>1</td><td>5.29487</td><td>2.55172</td></tr><tr><th>4</th><td>1</td><td>83</td><td>0</td><td>0</td><td>0</td><td>6</td><td>1</td><td>5.29487</td><td>2.42026</td></tr><tr><th>5</th><td>1</td><td>85</td><td>0</td><td>0</td><td>0</td><td>6</td><td>1</td><td>7.16026</td><td>2.61417</td></tr><tr><th>6</th><td>1</td><td>87</td><td>0</td><td>0</td><td>0</td><td>6</td><td>1</td><td>8.98718</td><td>2.53637</td></tr><tr><th>7</th><td>1</td><td>88</td><td>0</td><td>0</td><td>0</td><td>6</td><td>1</td><td>10.3333</td><td>2.46293</td></tr><tr><th>8</th><td>2</td><td>71</td><td>0</td><td>0</td><td>0</td><td>3</td><td>0</td><td>0.711538</td><td>1.36035</td></tr><tr><th>9</th><td>2</td><td>77</td><td>0</td><td>0</td><td>0</td><td>6</td><td>1</td><td>3.21154</td><td>1.72672</td></tr><tr><th>10</th><td>2</td><td>78</td><td>0</td><td>0</td><td>0</td><td>6</td><td>1</td><td>4.21154</td><td>1.68991</td></tr><tr><th>11</th><td>2</td><td>80</td><td>0</td><td>0</td><td>0</td><td>6</td><td>1</td><td>6.09615</td><td>1.72696</td></tr><tr><th>12</th><td>2</td><td>82</td><td>0</td><td>0</td><td>0</td><td>6</td><td>1</td><td>7.66667</td><td>1.80829</td></tr><tr><th>13</th><td>2</td><td>83</td><td>0</td><td>0</td><td>0</td><td>6</td><td>1</td><td>8.58333</td><td>1.86342</td></tr><tr><th>14</th><td>2</td><td>85</td><td>0</td><td>0</td><td>0</td><td>6</td><td>1</td><td>10.1795</td><td>1.78937</td></tr><tr><th>15</th><td>2</td><td>87</td><td>0</td><td>0</td><td>0</td><td>6</td><td>1</td><td>12.1795</td><td>1.84653</td></tr><tr><th>16</th><td>2</td><td>88</td><td>0</td><td>0</td><td>0</td><td>5</td><td>1</td><td>13.6218</td><td>1.85645</td></tr><tr><th>17</th><td>3</td><td>71</td><td>1</td><td>0</td><td>0</td><td>3</td><td>0</td><td>3.44231</td><td>1.54742</td></tr><tr><th>18</th><td>3</td><td>72</td><td>1</td><td>0</td><td>0</td><td>3</td><td>0</td><td>4.44231</td><td>1.60729</td></tr><tr><th>19</th><td>3</td><td>73</td><td>1</td><td>0</td><td>0</td><td>3</td><td>0</td><td>5.38462</td><td>1.59727</td></tr><tr><th>20</th><td>3</td><td>77</td><td>1</td><td>0</td><td>0</td><td>3</td><td>0</td><td>6.94231</td><td>1.62284</td></tr><tr><th>21</th><td>3</td><td>78</td><td>1</td><td>0</td><td>0</td><td>3</td><td>0</td><td>7.98077</td><td>1.56663</td></tr><tr><th>22</th><td>3</td><td>80</td><td>1</td><td>0</td><td>0</td><td>3</td><td>0</td><td>9.86539</td><td>1.55972</td></tr><tr><th>23</th><td>3</td><td>82</td><td>1</td><td>0</td><td>0</td><td>3</td><td>0</td><td>11.75</td><td>1.60342</td></tr><tr><th>24</th><td>3</td><td>83</td><td>1</td><td>0</td><td>0</td><td>3</td><td>0</td><td>12.6154</td><td>1.61423</td></tr><tr><th>25</th><td>3</td><td>85</td><td>1</td><td>0</td><td>0</td><td>3</td><td>0</td><td>14.6154</td><td>1.7308</td></tr><tr><th>26</th><td>3</td><td>87</td><td>1</td><td>0</td><td>0</td><td>3</td><td>0</td><td>16.3462</td><td>1.52577</td></tr><tr><th>27</th><td>4</td><td>70</td><td>1</td><td>0</td><td>0</td><td>13</td><td>1</td><td>2.25</td><td>2.2885</td></tr><tr><th>28</th><td>4</td><td>71</td><td>0</td><td>0</td><td>0</td><td>13</td><td>1</td><td>3.19231</td><td>2.37558</td></tr><tr><th>29</th><td>4</td><td>72</td><td>0</td><td>0</td><td>0</td><td>13</td><td>1</td><td>4.21154</td><td>2.41392</td></tr><tr><th>30</th><td>4</td><td>80</td><td>0</td><td>0</td><td>0</td><td>13</td><td>0</td><td>5.69231</td><td>1.47624</td></tr><tr><th>&vellip;</th><td>&vellip;</td><td>&vellip;</td><td>&vellip;</td><td>&vellip;</td><td>&vellip;</td><td>&vellip;</td><td>&vellip;</td><td>&vellip;</td><td>&vellip;</td></tr></tbody></table></div>"
      ],
      "text/latex": [
       "\\begin{tabular}{r|ccccccccc}\n",
       "\t& idcode & year & nev\\_mar & not\\_smsa & south & occ\\_code & union & ttl\\_exp & ln\\_wage\\\\\n",
       "\t\\hline\n",
       "\t& Int64 & Int64 & Int64 & Int64 & Int64 & Int64 & Int64 & Float64 & Float64\\\\\n",
       "\t\\hline\n",
       "\t1 & 1 & 72 & 0 & 0 & 0 & 6 & 1 & 2.25641 & 1.58998 \\\\\n",
       "\t2 & 1 & 77 & 0 & 0 & 0 & 8 & 0 & 3.77564 & 1.77868 \\\\\n",
       "\t3 & 1 & 80 & 0 & 0 & 0 & 6 & 1 & 5.29487 & 2.55172 \\\\\n",
       "\t4 & 1 & 83 & 0 & 0 & 0 & 6 & 1 & 5.29487 & 2.42026 \\\\\n",
       "\t5 & 1 & 85 & 0 & 0 & 0 & 6 & 1 & 7.16026 & 2.61417 \\\\\n",
       "\t6 & 1 & 87 & 0 & 0 & 0 & 6 & 1 & 8.98718 & 2.53637 \\\\\n",
       "\t7 & 1 & 88 & 0 & 0 & 0 & 6 & 1 & 10.3333 & 2.46293 \\\\\n",
       "\t8 & 2 & 71 & 0 & 0 & 0 & 3 & 0 & 0.711538 & 1.36035 \\\\\n",
       "\t9 & 2 & 77 & 0 & 0 & 0 & 6 & 1 & 3.21154 & 1.72672 \\\\\n",
       "\t10 & 2 & 78 & 0 & 0 & 0 & 6 & 1 & 4.21154 & 1.68991 \\\\\n",
       "\t11 & 2 & 80 & 0 & 0 & 0 & 6 & 1 & 6.09615 & 1.72696 \\\\\n",
       "\t12 & 2 & 82 & 0 & 0 & 0 & 6 & 1 & 7.66667 & 1.80829 \\\\\n",
       "\t13 & 2 & 83 & 0 & 0 & 0 & 6 & 1 & 8.58333 & 1.86342 \\\\\n",
       "\t14 & 2 & 85 & 0 & 0 & 0 & 6 & 1 & 10.1795 & 1.78937 \\\\\n",
       "\t15 & 2 & 87 & 0 & 0 & 0 & 6 & 1 & 12.1795 & 1.84653 \\\\\n",
       "\t16 & 2 & 88 & 0 & 0 & 0 & 5 & 1 & 13.6218 & 1.85645 \\\\\n",
       "\t17 & 3 & 71 & 1 & 0 & 0 & 3 & 0 & 3.44231 & 1.54742 \\\\\n",
       "\t18 & 3 & 72 & 1 & 0 & 0 & 3 & 0 & 4.44231 & 1.60729 \\\\\n",
       "\t19 & 3 & 73 & 1 & 0 & 0 & 3 & 0 & 5.38462 & 1.59727 \\\\\n",
       "\t20 & 3 & 77 & 1 & 0 & 0 & 3 & 0 & 6.94231 & 1.62284 \\\\\n",
       "\t21 & 3 & 78 & 1 & 0 & 0 & 3 & 0 & 7.98077 & 1.56663 \\\\\n",
       "\t22 & 3 & 80 & 1 & 0 & 0 & 3 & 0 & 9.86539 & 1.55972 \\\\\n",
       "\t23 & 3 & 82 & 1 & 0 & 0 & 3 & 0 & 11.75 & 1.60342 \\\\\n",
       "\t24 & 3 & 83 & 1 & 0 & 0 & 3 & 0 & 12.6154 & 1.61423 \\\\\n",
       "\t25 & 3 & 85 & 1 & 0 & 0 & 3 & 0 & 14.6154 & 1.7308 \\\\\n",
       "\t26 & 3 & 87 & 1 & 0 & 0 & 3 & 0 & 16.3462 & 1.52577 \\\\\n",
       "\t27 & 4 & 70 & 1 & 0 & 0 & 13 & 1 & 2.25 & 2.2885 \\\\\n",
       "\t28 & 4 & 71 & 0 & 0 & 0 & 13 & 1 & 3.19231 & 2.37558 \\\\\n",
       "\t29 & 4 & 72 & 0 & 0 & 0 & 13 & 1 & 4.21154 & 2.41392 \\\\\n",
       "\t30 & 4 & 80 & 0 & 0 & 0 & 13 & 0 & 5.69231 & 1.47624 \\\\\n",
       "\t$\\dots$ & $\\dots$ & $\\dots$ & $\\dots$ & $\\dots$ & $\\dots$ & $\\dots$ & $\\dots$ & $\\dots$ & $\\dots$ \\\\\n",
       "\\end{tabular}\n"
      ],
      "text/plain": [
       "\u001b[1m19151×9 DataFrame\u001b[0m\n",
       "\u001b[1m   Row \u001b[0m│\u001b[1m idcode \u001b[0m\u001b[1m year  \u001b[0m\u001b[1m nev_mar \u001b[0m\u001b[1m not_smsa \u001b[0m\u001b[1m south \u001b[0m\u001b[1m occ_code \u001b[0m\u001b[1m union \u001b[0m\u001b[1m ttl_exp   \u001b[0m\u001b[1m \u001b[0m ⋯\n",
       "\u001b[1m       \u001b[0m│\u001b[90m Int64  \u001b[0m\u001b[90m Int64 \u001b[0m\u001b[90m Int64   \u001b[0m\u001b[90m Int64    \u001b[0m\u001b[90m Int64 \u001b[0m\u001b[90m Int64    \u001b[0m\u001b[90m Int64 \u001b[0m\u001b[90m Float64   \u001b[0m\u001b[90m \u001b[0m ⋯\n",
       "───────┼────────────────────────────────────────────────────────────────────────\n",
       "     1 │      1     72        0         0      0         6      1   2.25641    ⋯\n",
       "     2 │      1     77        0         0      0         8      0   3.77564\n",
       "     3 │      1     80        0         0      0         6      1   5.29487\n",
       "     4 │      1     83        0         0      0         6      1   5.29487\n",
       "     5 │      1     85        0         0      0         6      1   7.16026    ⋯\n",
       "     6 │      1     87        0         0      0         6      1   8.98718\n",
       "     7 │      1     88        0         0      0         6      1  10.3333\n",
       "     8 │      2     71        0         0      0         3      0   0.711538\n",
       "     9 │      2     77        0         0      0         6      1   3.21154    ⋯\n",
       "    10 │      2     78        0         0      0         6      1   4.21154\n",
       "    11 │      2     80        0         0      0         6      1   6.09615\n",
       "   ⋮   │   ⋮       ⋮       ⋮        ⋮        ⋮       ⋮        ⋮        ⋮       ⋱\n",
       " 19142 │   5157     83        0         1      1         8      0   7.39103\n",
       " 19143 │   5157     85        0         1      1         8      0   8.85256    ⋯\n",
       " 19144 │   5157     88        0         1      1         8      0  11.1603\n",
       " 19145 │   5159     77        0         0      1         3      0   2.08333\n",
       " 19146 │   5159     78        0         0      1         3      1   3.0\n",
       " 19147 │   5159     80        0         0      1         3      1   5.0        ⋯\n",
       " 19148 │   5159     82        0         0      1         3      0   7.0\n",
       " 19149 │   5159     83        0         0      1         3      1   8.07692\n",
       " 19150 │   5159     85        0         0      1         3      1   9.07692\n",
       " 19151 │   5159     88        0         0      1         3      1  10.5962     ⋯\n",
       "\u001b[36m                                                 1 column and 19130 rows omitted\u001b[0m"
      ]
     },
     "execution_count": 6,
     "metadata": {},
     "output_type": "execute_result"
    }
   ],
   "source": [
    "#nlswork = read_dta(\"nlswork_regression.dta\")\n",
    "nlswork = CSV.read(\"nlswork_regression.csv\", DataFrame)\n",
    "#nlswork = DataFrame(load(\"nlswork_regression.dta\"))"
   ]
  },
  {
   "cell_type": "code",
   "execution_count": 7,
   "metadata": {},
   "outputs": [
    {
     "name": "stdout",
     "output_type": "stream",
     "text": [
      "\u001b[?25h\u001b[2K[1mDemean Variables:\u001b[22m\u001b[39m [================================>]  5/5"
     ]
    },
    {
     "data": {
      "text/plain": [
       "15.610965584"
      ]
     },
     "execution_count": 7,
     "metadata": {},
     "output_type": "execute_result"
    }
   ],
   "source": [
    "timings_base = @elapsed reg(nlswork, @formula(ln_wage ~ ttl_exp + union + not_smsa + nev_mar + fe(idcode) + fe(year)))\n",
    "#reg(nlswork, @formula(ln_wage ~ ttl_exp + union + not_smsa + nev_mar + fe(idcode) + fe(year)))"
   ]
  },
  {
   "cell_type": "code",
   "execution_count": 8,
   "metadata": {},
   "outputs": [
    {
     "data": {
      "text/plain": [
       "0.365493875"
      ]
     },
     "execution_count": 8,
     "metadata": {},
     "output_type": "execute_result"
    }
   ],
   "source": [
    "@elapsed HDFE4 = reg(nlswork, @formula(ln_wage ~ ttl_exp + union + not_smsa + nev_mar + fe(idcode) + fe(year)))"
   ]
  },
  {
   "cell_type": "code",
   "execution_count": 9,
   "metadata": {},
   "outputs": [
    {
     "data": {
      "text/plain": [
       "                           Fixed Effect Model                           \n",
       "=========================================================================\n",
       "Number of obs:                18486   Degrees of freedom:            3493\n",
       "R2:                           0.756   R2 Adjusted:                  0.700\n",
       "F-Stat:                     266.106   p-value:                      0.000\n",
       "R2 within:                    0.066   Iterations:                      11\n",
       "=========================================================================\n",
       "ln_wage  |   Estimate  Std.Error  t value Pr(>|t|)  Lower 95%   Upper 95%\n",
       "-------------------------------------------------------------------------\n",
       "ttl_exp  |  0.0436696 0.00159762  27.3342    0.000  0.0405381   0.0468011\n",
       "union    |   0.101249 0.00692685  14.6169    0.000  0.0876715    0.114826\n",
       "not_smsa | -0.0940314  0.0123763  -7.5977    0.000   -0.11829  -0.0697723\n",
       "nev_mar  | -0.0212838  0.0102303 -2.08048    0.037 -0.0413364 -0.00123125\n",
       "=========================================================================\n"
      ]
     },
     "execution_count": 9,
     "metadata": {},
     "output_type": "execute_result"
    }
   ],
   "source": [
    "HDFE4"
   ]
  },
  {
   "cell_type": "code",
   "execution_count": 14,
   "metadata": {},
   "outputs": [
    {
     "data": {
      "text/plain": [
       "                           Fixed Effect Model                           \n",
       "========================================================================\n",
       "Number of obs:                 1380  Degrees of freedom:              32\n",
       "R2:                           0.803  R2 Adjusted:                  0.798\n",
       "F-Stat:                     13.3382  p-value:                      0.001\n",
       "R2 within:                    0.139  Iterations:                       5\n",
       "========================================================================\n",
       "Sales |    Estimate  Std.Error  t value Pr(>|t|)   Lower 95%   Upper 95%\n",
       "------------------------------------------------------------------------\n",
       "NDI   | -0.00526264 0.00144097 -3.65216    0.000 -0.00808942 -0.00243586\n",
       "========================================================================\n"
      ]
     },
     "execution_count": 14,
     "metadata": {},
     "output_type": "execute_result"
    }
   ],
   "source": [
    "df = dataset(\"plm\", \"Cigar\")\n",
    "reg(df, @formula(Sales ~ NDI + fe(State) + fe(Year)), Vcov.cluster(:State), weights = :Pop)"
   ]
  },
  {
   "cell_type": "code",
   "execution_count": 15,
   "metadata": {},
   "outputs": [
    {
     "name": "stdout",
     "output_type": "stream",
     "text": [
      "Loading data...\n",
      ".\n",
      "done.\n"
     ]
    }
   ],
   "source": [
    "println(\"Loading data...\")\n",
    "base_all = load(\"DATA/base_all_simulations.RData\", convert=true);\n",
    "base_all = base_all[\"base_all\"];\n",
    "println(\".\")\n",
    "base_10M = CSV.read(\"DATA/base_10M.csv\", DataFrame)\n",
    "println(\"done.\")"
   ]
  },
  {
   "cell_type": "markdown",
   "metadata": {},
   "source": [
    "# warming up"
   ]
  },
  {
   "cell_type": "code",
   "execution_count": 16,
   "metadata": {},
   "outputs": [
    {
     "name": "stdout",
     "output_type": "stream",
     "text": [
      "warming up...\n",
      "done.\n"
     ]
    }
   ],
   "source": [
    "println(\"warming up...\")\n",
    "base = base_all[1]\n",
    "test = @elapsed reg(base, @formula(ln_y~X1 + fe(dum_1)))\n",
    "println(\"done.\")"
   ]
  },
  {
   "cell_type": "markdown",
   "metadata": {},
   "source": [
    "# 1 FE\n",
    "\n",
    "# We run all the models"
   ]
  },
  {
   "cell_type": "code",
   "execution_count": 6,
   "metadata": {},
   "outputs": [
    {
     "name": "stdout",
     "output_type": "stream",
     "text": [
      "One FE.\n",
      "i = 1\n",
      "(1000, 6)i = 2\n",
      "(10000, 6)i = 3\n",
      "(100000, 6)i = 4\n",
      "(1000000, 6)i = 5\n",
      "(1000, 6)i = 6\n",
      "(10000, 6)i = 7\n",
      "(100000, 6)i = 8\n",
      "(1000000, 6)i = 9\n",
      "(1000, 6)i = 10\n",
      "(10000, 6)i = 11\n",
      "(100000, 6)i = 12\n",
      "(1000000, 6)i = 13\n",
      "(1000, 6)i = 14\n",
      "(10000, 6)i = 15\n",
      "(100000, 6)i = 16\n",
      "(1000000, 6)i = 17\n",
      "(1000, 6)i = 18\n",
      "(10000, 6)i = 19\n",
      "(100000, 6)i = 20\n",
      "(1000000, 6)i = 21\n",
      "(1000, 6)i = 22\n",
      "(10000, 6)i = 23\n",
      "(100000, 6)i = 24\n",
      "(1000000, 6)i = 25\n",
      "(1000, 6)i = 26\n",
      "(10000, 6)i = 27\n",
      "(100000, 6)i = 28\n",
      "(1000000, 6)i = 29\n",
      "(1000, 6)i = 30\n",
      "(10000, 6)i = 31\n",
      "(100000, 6)i = 32\n",
      "(1000000, 6)i = 33\n",
      "(1000, 6)i = 34\n",
      "(10000, 6)i = 35\n",
      "(100000, 6)i = 36\n",
      "(1000000, 6)i = 37\n",
      "(1000, 6)i = 38\n",
      "(10000, 6)i = 39\n",
      "(100000, 6)i = 40\n",
      "(1000000, 6)"
     ]
    }
   ],
   "source": [
    "println(\"One FE.\")\n",
    "timings = Vector{Float64}(undef, 50)\n",
    "for i=1:40\n",
    "    println(\"i = \", i)\n",
    "    base = base_all[i]\n",
    "    print(size(base))\n",
    "    timings[i] = @elapsed reg(base, @formula(ln_y~X1 + fe(dum_1)))\n",
    "end"
   ]
  },
  {
   "cell_type": "markdown",
   "metadata": {},
   "source": [
    "# The 10M DB"
   ]
  },
  {
   "cell_type": "code",
   "execution_count": 7,
   "metadata": {},
   "outputs": [
    {
     "name": "stdout",
     "output_type": "stream",
     "text": [
      "i = 41\n",
      "i = 42\n",
      "i = 43\n",
      "i = 44\n",
      "i = 45\n",
      "i = 46\n",
      "i = 47\n",
      "i = 48\n",
      "i = 49\n",
      "i = 50\n"
     ]
    }
   ],
   "source": [
    "for i=1:10\n",
    "    println(\"i = \", i + 40)\n",
    "    timings[i + 40] = @elapsed reg(base_10M, @formula(ln_y~X1 + fe(dum_1)))\n",
    "end"
   ]
  },
  {
   "cell_type": "markdown",
   "metadata": {},
   "source": [
    "# saving"
   ]
  },
  {
   "cell_type": "code",
   "execution_count": 8,
   "metadata": {},
   "outputs": [],
   "source": [
    "open(\"DATA/julia_bench_1FE.txt\", \"w\") do io\n",
    "           writedlm(io, timings)\n",
    "       end"
   ]
  },
  {
   "cell_type": "markdown",
   "metadata": {},
   "source": [
    "# 2 FE"
   ]
  },
  {
   "cell_type": "code",
   "execution_count": 9,
   "metadata": {},
   "outputs": [
    {
     "name": "stdout",
     "output_type": "stream",
     "text": [
      "Two FEs.\n",
      "i = 1\n",
      "i = 2\n",
      "i = 3\n",
      "i = 4\n",
      "i = 5\n",
      "i = 6\n",
      "i = 7\n",
      "i = 8\n",
      "i = 9\n",
      "i = 10\n",
      "i = 11\n",
      "i = 12\n",
      "i = 13\n",
      "i = 14\n",
      "i = 15\n",
      "i = 16\n",
      "i = 17\n",
      "i = 18\n",
      "i = 19\n",
      "i = 20\n",
      "i = 21\n",
      "i = 22\n",
      "i = 23\n",
      "i = 24\n",
      "i = 25\n",
      "i = 26\n",
      "i = 27\n",
      "i = 28\n",
      "i = 29\n",
      "i = 30\n",
      "i = 31\n",
      "i = 32\n",
      "i = 33\n",
      "i = 34\n",
      "i = 35\n",
      "i = 36\n",
      "i = 37\n",
      "i = 38\n",
      "i = 39\n",
      "i = 40\n",
      "i = 41\n",
      "\u001b[?25h\u001b[2Ki = 42ean Variables:\u001b[22m\u001b[39m [================================>]  2/2\n",
      "\u001b[?25h\u001b[2Ki = 43ean Variables:\u001b[22m\u001b[39m [================================>]  2/2\n",
      "\u001b[?25h\u001b[2Ki = 44ean Variables:\u001b[22m\u001b[39m [================================>]  2/2\n",
      "\u001b[?25h\u001b[2Ki = 45ean Variables:\u001b[22m\u001b[39m [================================>]  2/2\n",
      "\u001b[?25h\u001b[2Ki = 46ean Variables:\u001b[22m\u001b[39m [================================>]  2/2\n",
      "\u001b[?25h\u001b[2Ki = 47ean Variables:\u001b[22m\u001b[39m [================================>]  2/2\n",
      "\u001b[?25h\u001b[2Ki = 48ean Variables:\u001b[22m\u001b[39m [================================>]  2/2\n",
      "\u001b[?25h\u001b[2Ki = 49ean Variables:\u001b[22m\u001b[39m [================================>]  2/2\n",
      "\u001b[?25h\u001b[2Ki = 50ean Variables:\u001b[22m\u001b[39m [================================>]  2/2\n",
      "\u001b[?25h\u001b[2K[1mDemean Variables:\u001b[22m\u001b[39m [================================>]  2/2"
     ]
    }
   ],
   "source": [
    "# We run all the models\n",
    "println(\"Two FEs.\")\n",
    "timings = Vector{Float64}(undef, 50)\n",
    "for i=1:40\n",
    "    println(\"i = \", i)\n",
    "    base = base_all[i]\n",
    "    timings[i] = @elapsed reg(base, @formula(ln_y~X1 + fe(dum_1) + fe(dum_2)))\n",
    "end\n",
    "\n",
    "# The 10M DB\n",
    "for i=1:10\n",
    "    println(\"i = \", i + 40)\n",
    "    timings[i + 40] = @elapsed reg(base_10M, @formula(ln_y~X1 + fe(dum_1) + fe(dum_2)))\n",
    "end\n",
    "\n",
    "# saving\n",
    "open(\"DATA/julia_bench_2FE.txt\", \"w\") do io\n",
    "           writedlm(io, timings)\n",
    "       end"
   ]
  },
  {
   "cell_type": "markdown",
   "metadata": {},
   "source": [
    "# 3 FE"
   ]
  },
  {
   "cell_type": "code",
   "execution_count": 10,
   "metadata": {},
   "outputs": [
    {
     "name": "stdout",
     "output_type": "stream",
     "text": [
      "Three FEs.\n",
      "i = 1\n",
      "i = 2\n",
      "i = 3\n",
      "i = 4\n",
      "i = 5\n",
      "i = 6\n",
      "i = 7\n",
      "i = 8\n",
      "i = 9\n",
      "i = 10\n",
      "i = 11\n",
      "i = 12\n",
      "i = 13\n",
      "i = 14\n",
      "i = 15\n",
      "i = 16\n",
      "i = 17\n",
      "i = 18\n",
      "i = 19\n",
      "i = 20\n",
      "i = 21\n",
      "i = 22\n",
      "i = 23\n",
      "i = 24\n",
      "i = 25\n",
      "i = 26\n",
      "i = 27\n",
      "i = 28\n",
      "i = 29\n",
      "i = 30\n",
      "i = 31\n",
      "i = 32\n",
      "i = 33\n",
      "i = 34\n",
      "i = 35\n",
      "i = 36\n",
      "i = 37\n",
      "i = 38\n",
      "i = 39\n",
      "i = 40\n",
      "i = 41\n",
      "\u001b[?25h\u001b[2Ki = 42ean Variables:\u001b[22m\u001b[39m [================================>]  2/2\n",
      "\u001b[?25h\u001b[2Ki = 43ean Variables:\u001b[22m\u001b[39m [================================>]  2/2\n",
      "\u001b[?25h\u001b[2Ki = 44ean Variables:\u001b[22m\u001b[39m [================================>]  2/2\n",
      "\u001b[?25h\u001b[2Ki = 45ean Variables:\u001b[22m\u001b[39m [================================>]  2/2\n",
      "\u001b[?25h\u001b[2Ki = 46ean Variables:\u001b[22m\u001b[39m [================================>]  2/2\n",
      "\u001b[?25h\u001b[2Ki = 47ean Variables:\u001b[22m\u001b[39m [================================>]  2/2\n",
      "\u001b[?25h\u001b[2Ki = 48ean Variables:\u001b[22m\u001b[39m [================================>]  2/2\n",
      "\u001b[?25h\u001b[2Ki = 49ean Variables:\u001b[22m\u001b[39m [================================>]  2/2\n",
      "\u001b[?25h\u001b[2Ki = 50ean Variables:\u001b[22m\u001b[39m [================================>]  2/2\n",
      "\u001b[?25h\u001b[2K[1mDemean Variables:\u001b[22m\u001b[39m [================================>]  2/2"
     ]
    }
   ],
   "source": [
    "# We run all the models\n",
    "println(\"Three FEs.\")\n",
    "timings = Vector{Float64}(undef, 50)\n",
    "for i=1:40\n",
    "    println(\"i = \", i)\n",
    "    base = base_all[i]\n",
    "    timings[i] = @elapsed reg(base, @formula(ln_y~X1 + fe(dum_1) + fe(dum_2) + fe(dum_3)))\n",
    "end\n",
    "\n",
    "# The 10M DB\n",
    "for i=1:10\n",
    "    println(\"i = \", i + 40)\n",
    "    timings[i + 40] = @elapsed reg(base_10M, @formula(ln_y~X1 + fe(dum_1) + fe(dum_2) + fe(dum_3)))\n",
    "end\n",
    "\n",
    "# saving\n",
    "open(\"DATA/julia_bench_3FE.txt\", \"w\") do io\n",
    "           writedlm(io, timings)\n",
    "       end"
   ]
  },
  {
   "cell_type": "markdown",
   "metadata": {},
   "source": [
    "#\n",
    "# The \"difficult\" data\n",
    "#\n"
   ]
  },
  {
   "cell_type": "code",
   "execution_count": 11,
   "metadata": {},
   "outputs": [
    {
     "name": "stdout",
     "output_type": "stream",
     "text": [
      "Loading difficult data...\n",
      "done.\n",
      "warming up...\n",
      "done.\n",
      "size = 1\n",
      "g = 1\n",
      "g = 2\n",
      "g = 3\n",
      "size = 2\n",
      "g = 1\n",
      "g = 2\n",
      "\u001b[?25h\u001b[2Kg = 3mean Variables:\u001b[22m\u001b[39m [================================>]  3/3    ]  1/3\n",
      "\u001b[?25h\u001b[2Ksize = 3n Variables:\u001b[22m\u001b[39m [================================>]  3/3    ]  1/3\n",
      "g = 1\n",
      "g = 2\n",
      "\u001b[?25h\u001b[2Kg = 3mean Variables:\u001b[22m\u001b[39m [================================>]  3/3    ]  1/3\n",
      "    \u001b[36m\u001b[1mDemean Variables:\u001b[22m\u001b[39m [======================                     ]  1/3"
     ]
    }
   ],
   "source": [
    "println(\"Loading difficult data...\")\n",
    "base_diff = load(\"DATA/base_all_diff.RData\", convert=true);\n",
    "base_diff = base_diff[\"base_all_diff\"];\n",
    "println(\"done.\")\n",
    "\n",
    "# warming up\n",
    "println(\"warming up...\")\n",
    "base = base_diff[1]\n",
    "test = @elapsed reg(base, @formula(y ~ x1 + x2 + fe(id_indiv)))\n",
    "println(\"done.\")\n",
    "\n",
    "timings = Vector{Float64}(undef, 120)\n",
    "\n",
    "global index = 1\n",
    "for size=1:4\n",
    "    println(\"size = \", size)\n",
    "    base = base_diff[size]\n",
    "    for g=1:3\n",
    "        println(\"g = \", g)\n",
    "        for r=1:10\n",
    "            if g == 1\n",
    "                global timings[index] = @elapsed reg(base, @formula(y ~ x1 + x2 + fe(id_indiv)))\n",
    "            elseif g == 2\n",
    "                global timings[index] = @elapsed reg(base, @formula(y ~ x1 + x2 + fe(id_indiv) + fe(id_firm)))\n",
    "            else\n",
    "                global timings[index] = @elapsed reg(base, @formula(y ~ x1 + x2 + fe(id_indiv) + fe(id_firm) + fe(id_year)))\n",
    "            end\n",
    "            global index = index + 1\n",
    "        end\n",
    "    end\n",
    "end\n",
    "\n",
    "# saving\n",
    "open(\"DATA/julia_bench_diff.txt\", \"w\") do io\n",
    "           writedlm(io, timings)\n",
    "       end"
   ]
  }
 ],
 "metadata": {
  "interpreter": {
   "hash": "aee8b7b246df8f9039afb4144a1f6fd8d2ca17a180786b69acc140d282b71a49"
  },
  "kernelspec": {
   "display_name": "Julia4171",
   "language": "julia",
   "name": "julia4171"
  },
  "language_info": {
   "file_extension": ".jl",
   "mimetype": "application/julia",
   "name": "julia",
   "version": "1.7.1"
  },
  "orig_nbformat": 4
 },
 "nbformat": 4,
 "nbformat_minor": 2
}
