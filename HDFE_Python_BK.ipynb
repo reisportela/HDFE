{
 "cells": [
  {
   "cell_type": "markdown",
   "id": "0d40eba2-9baf-4b6b-9eba-f422ac9d0b5e",
   "metadata": {
    "kernel": "SoS"
   },
   "source": [
    "# Explore HDFE using Python -- Proof of Concept || Benchmark"
   ]
  },
  {
   "cell_type": "markdown",
   "id": "ab8290f6-c4db-4921-9cf5-c7323d709333",
   "metadata": {
    "kernel": "SoS"
   },
   "source": [
    "### MPortela, june 26, 2022"
   ]
  },
  {
   "cell_type": "markdown",
   "id": "62db5fb1-f51d-4dd8-9b25-6af3771db1c3",
   "metadata": {
    "kernel": "Julia"
   },
   "source": [
    "## Python"
   ]
  },
  {
   "cell_type": "code",
   "execution_count": 3,
   "id": "6a79f723",
   "metadata": {},
   "outputs": [
    {
     "name": "stdout",
     "output_type": "stream",
     "text": [
      "User Current Version:- 3.8.1 (tags/v3.8.1:1b293b6, Dec 18 2019, 23:11:46) [MSC v.1916 64 bit (AMD64)]\n"
     ]
    }
   ],
   "source": [
    "import sys,os,time\n",
    "print(\"User Current Version:-\", sys.version)\n",
    "import pandas as pd\n",
    "import numpy as np\n",
    "import pyhdfe\n",
    "from sklearn import datasets, linear_model\n",
    "import statsmodels.api as sm\n",
    "pyhdfe.__version__\n",
    "Pdata = pd.read_stata('data_tmp_sample1.dta')\n",
    "ids = Pdata[[\"idtrab\",\"ano\",\"NPC_FIC\",\"prof_4d_cpp_2010\"]]\n",
    "variables = Pdata[[\"ln_wage\",\"hh1\",\"hh2\",\"hh3\",\"hh4\",\"hh5\",\"hh7\",\"hh8\",\"hh9\",\"hh10\"]]\n",
    "start = time.time()"
   ]
  },
  {
   "cell_type": "code",
   "execution_count": 4,
   "id": "fbe5ede5",
   "metadata": {},
   "outputs": [
    {
     "data": {
      "text/plain": [
       "array([[ 1.36101344e-02, -2.97244984e-05, -3.47628037e-04, ...,\n",
       "         2.40274304e-04,  3.02093105e-03, -7.71740466e-05],\n",
       "       [-1.36101345e-02,  2.97244971e-05,  3.47628038e-04, ...,\n",
       "        -2.40274306e-04, -3.02093096e-03,  7.71740464e-05],\n",
       "       [ 2.79534622e-02, -9.19351273e-05, -3.56202451e-04, ...,\n",
       "         8.24503636e-04, -5.64188447e-04, -9.25107547e-05],\n",
       "       ...,\n",
       "       [ 5.10632932e-02,  3.07767331e-05,  2.01679593e-04, ...,\n",
       "        -9.46759588e-05, -1.64753134e-05, -4.63606159e-05],\n",
       "       [-2.58880252e-03, -3.07767330e-05, -2.01679593e-04, ...,\n",
       "         9.46759588e-05,  1.64753132e-05,  4.63606159e-05],\n",
       "       [ 2.58880252e-03,  3.07767331e-05,  2.01679593e-04, ...,\n",
       "        -9.46759588e-05, -1.64753136e-05, -4.63606159e-05]])"
      ]
     },
     "execution_count": 4,
     "metadata": {},
     "output_type": "execute_result"
    }
   ],
   "source": [
    "algorithm = pyhdfe.create(ids)\n",
    "residualized = algorithm.residualize(variables)\n",
    "residualized"
   ]
  },
  {
   "cell_type": "code",
   "execution_count": 5,
   "id": "978a1503",
   "metadata": {},
   "outputs": [
    {
     "name": "stdout",
     "output_type": "stream",
     "text": [
      "9290.37280845642\n"
     ]
    }
   ],
   "source": [
    "end = time.time()\n",
    "print(end - start)"
   ]
  }
 ],
 "metadata": {
  "kernelspec": {
   "display_name": "Python 3.8.1 64-bit",
   "language": "python",
   "name": "python3"
  },
  "language_info": {
   "codemirror_mode": {
    "name": "ipython",
    "version": 3
   },
   "file_extension": ".py",
   "mimetype": "text/x-python",
   "name": "python",
   "nbconvert_exporter": "python",
   "pygments_lexer": "ipython3",
   "version": "3.8.1"
  },
  "sos": {
   "kernels": [
    [
     "Python3",
     "python3",
     "Python3",
     "#FFD91A",
     ""
    ],
    [
     "R",
     "ir",
     "R",
     "#DCDCDA",
     "r"
    ],
    [
     "Stata",
     "stata",
     "Stata",
     "#CAE8F3",
     "stata"
    ]
   ],
   "panel": {
    "displayed": true,
    "height": 0
   },
   "version": "0.23.3"
  },
  "vscode": {
   "interpreter": {
    "hash": "9650cb4e16cdd4a8e8e2d128bf38d875813998db22a3c986335f89e0cb4d7bb2"
   }
  }
 },
 "nbformat": 4,
 "nbformat_minor": 5
}
