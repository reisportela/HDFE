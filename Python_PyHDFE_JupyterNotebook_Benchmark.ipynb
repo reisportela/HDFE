{
 "cells": [
  {
   "cell_type": "code",
   "execution_count": null,
   "metadata": {},
   "outputs": [],
   "source": [
    "import os\n",
    "import pandas as pd"
   ]
  },
  {
   "cell_type": "code",
   "execution_count": null,
   "metadata": {},
   "outputs": [],
   "source": [
    "nlswork_regression = pd.read_stata('nlswork_regression.dta')"
   ]
  },
  {
   "cell_type": "code",
   "execution_count": 3,
   "metadata": {},
   "outputs": [
    {
     "name": "stdout",
     "output_type": "stream",
     "text": [
      "Collecting package metadata (current_repodata.json): done\n",
      "Solving environment: done\n",
      "\n",
      "\n",
      "==> WARNING: A newer version of conda exists. <==\n",
      "  current version: 4.10.3\n",
      "  latest version: 4.13.0\n",
      "\n",
      "Please update conda by running\n",
      "\n",
      "    $ conda update -n base conda\n",
      "\n",
      "\n",
      "\n",
      "## Package Plan ##\n",
      "\n",
      "  environment location: /Users/miguelportela/opt/anaconda3/envs/mypython310\n",
      "\n",
      "  added / updated specs:\n",
      "    - pyhdfe\n",
      "\n",
      "\n",
      "The following packages will be downloaded:\n",
      "\n",
      "    package                    |            build\n",
      "    ---------------------------|-----------------\n",
      "    ca-certificates-2022.6.15  |       h4653dfc_0         149 KB  conda-forge\n",
      "    certifi-2022.6.15          |   py39h2804cbe_0         155 KB  conda-forge\n",
      "    openssl-1.1.1p             |       ha287fd2_0         1.8 MB  conda-forge\n",
      "    ------------------------------------------------------------\n",
      "                                           Total:         2.1 MB\n",
      "\n",
      "The following packages will be SUPERSEDED by a higher-priority channel:\n",
      "\n",
      "  ca-certificates    conda-forge/osx-64::ca-certificates-2~ --> conda-forge/osx-arm64::ca-certificates-2022.6.15-h4653dfc_0\n",
      "  certifi            conda-forge/osx-64::certifi-2022.6.15~ --> conda-forge/osx-arm64::certifi-2022.6.15-py39h2804cbe_0\n",
      "  openssl            conda-forge/osx-64::openssl-1.1.1p-hf~ --> conda-forge/osx-arm64::openssl-1.1.1p-ha287fd2_0\n",
      "\n",
      "\n",
      "\n",
      "Downloading and Extracting Packages\n",
      "ca-certificates-2022 | 149 KB    | ##################################### | 100% \n",
      "openssl-1.1.1p       | 1.8 MB    | ##################################### | 100% \n",
      "certifi-2022.6.15    | 155 KB    | ##################################### | 100% \n",
      "Preparing transaction: done\n",
      "Verifying transaction: done\n",
      "Executing transaction: done\n"
     ]
    }
   ],
   "source": [
    "#!conda install -y pyhdfe"
   ]
  },
  {
   "cell_type": "code",
   "execution_count": 2,
   "metadata": {},
   "outputs": [],
   "source": [
    "import pyhdfe\n",
    "import numpy as np\n",
    "import statsmodels.api as sm\n",
    "from sklearn import datasets\n"
   ]
  },
  {
   "cell_type": "code",
   "execution_count": 3,
   "metadata": {},
   "outputs": [
    {
     "name": "stderr",
     "output_type": "stream",
     "text": [
      "/Users/miguelportela/opt/anaconda3/envs/mypython310/lib/python3.9/site-packages/sklearn/utils/deprecation.py:87: FutureWarning: Function load_boston is deprecated; `load_boston` is deprecated in 1.0 and will be removed in 1.2.\n",
      "\n",
      "    The Boston housing prices dataset has an ethical problem. You can refer to\n",
      "    the documentation of this function for further details.\n",
      "\n",
      "    The scikit-learn maintainers therefore strongly discourage the use of this\n",
      "    dataset unless the purpose of the code is to study and educate about\n",
      "    ethical issues in data science and machine learning.\n",
      "\n",
      "    In this special case, you can fetch the dataset from the original\n",
      "    source::\n",
      "\n",
      "        import pandas as pd\n",
      "        import numpy as np\n",
      "\n",
      "\n",
      "        data_url = \"http://lib.stat.cmu.edu/datasets/boston\"\n",
      "        raw_df = pd.read_csv(data_url, sep=\"\\s+\", skiprows=22, header=None)\n",
      "        data = np.hstack([raw_df.values[::2, :], raw_df.values[1::2, :2]])\n",
      "        target = raw_df.values[1::2, 2]\n",
      "\n",
      "    Alternative datasets include the California housing dataset (i.e.\n",
      "    :func:`~sklearn.datasets.fetch_california_housing`) and the Ames housing\n",
      "    dataset. You can load the datasets as follows::\n",
      "\n",
      "        from sklearn.datasets import fetch_california_housing\n",
      "        housing = fetch_california_housing()\n",
      "\n",
      "    for the California housing dataset and::\n",
      "\n",
      "        from sklearn.datasets import fetch_openml\n",
      "        housing = fetch_openml(name=\"house_prices\", as_frame=True)\n",
      "\n",
      "    for the Ames housing dataset.\n",
      "    \n",
      "  warnings.warn(msg, category=FutureWarning)\n"
     ]
    }
   ],
   "source": [
    "boston = datasets.load_boston().data"
   ]
  },
  {
   "cell_type": "code",
   "execution_count": 7,
   "metadata": {},
   "outputs": [
    {
     "data": {
      "text/plain": [
       "array([[6.3200e-03, 1.8000e+01, 2.3100e+00],\n",
       "       [2.7310e-02, 0.0000e+00, 7.0700e+00],\n",
       "       [2.7290e-02, 0.0000e+00, 7.0700e+00],\n",
       "       ...,\n",
       "       [6.0760e-02, 0.0000e+00, 1.1930e+01],\n",
       "       [1.0959e-01, 0.0000e+00, 1.1930e+01],\n",
       "       [4.7410e-02, 0.0000e+00, 1.1930e+01]])"
      ]
     },
     "execution_count": 7,
     "metadata": {},
     "output_type": "execute_result"
    }
   ],
   "source": [
    "variables = boston[:, :3]\n",
    "variables\n"
   ]
  },
  {
   "cell_type": "code",
   "execution_count": 8,
   "metadata": {},
   "outputs": [
    {
     "ename": "NameError",
     "evalue": "name 'ids' is not defined",
     "output_type": "error",
     "traceback": [
      "\u001b[0;31m---------------------------------------------------------------------------\u001b[0m",
      "\u001b[0;31mNameError\u001b[0m                                 Traceback (most recent call last)",
      "\u001b[1;32m/Users/miguelportela/Documents/GitHub/HDFE/Python_PyHDFE_JupyterNotebook_Benchmark.ipynb Cell 7'\u001b[0m in \u001b[0;36m<cell line: 1>\u001b[0;34m()\u001b[0m\n\u001b[0;32m----> <a href='vscode-notebook-cell:/Users/miguelportela/Documents/GitHub/HDFE/Python_PyHDFE_JupyterNotebook_Benchmark.ipynb#ch0000006?line=0'>1</a>\u001b[0m algorithm \u001b[39m=\u001b[39m pyhdfe\u001b[39m.\u001b[39mcreate(ids)\n",
      "\u001b[0;31mNameError\u001b[0m: name 'ids' is not defined"
     ]
    }
   ],
   "source": [
    "algorithm = pyhdfe.create(ids)\n",
    "residualized = algorithm.residualize(variables)\n",
    "residualized\n"
   ]
  },
  {
   "cell_type": "code",
   "execution_count": 6,
   "metadata": {},
   "outputs": [
    {
     "ename": "NameError",
     "evalue": "name 'residualized' is not defined",
     "output_type": "error",
     "traceback": [
      "\u001b[0;31m---------------------------------------------------------------------------\u001b[0m",
      "\u001b[0;31mNameError\u001b[0m                                 Traceback (most recent call last)",
      "\u001b[1;32m/Users/miguelportela/Documents/GitHub/HDFE/Python_PyHDFE_JupyterNotebook_Benchmark.ipynb Cell 8'\u001b[0m in \u001b[0;36m<cell line: 1>\u001b[0;34m()\u001b[0m\n\u001b[0;32m----> <a href='vscode-notebook-cell:/Users/miguelportela/Documents/GitHub/HDFE/Python_PyHDFE_JupyterNotebook_Benchmark.ipynb#ch0000007?line=0'>1</a>\u001b[0m y \u001b[39m=\u001b[39m residualized[:, [\u001b[39m0\u001b[39m]]\n\u001b[1;32m      <a href='vscode-notebook-cell:/Users/miguelportela/Documents/GitHub/HDFE/Python_PyHDFE_JupyterNotebook_Benchmark.ipynb#ch0000007?line=1'>2</a>\u001b[0m X \u001b[39m=\u001b[39m residualized[:, \u001b[39m1\u001b[39m:]\n\u001b[1;32m      <a href='vscode-notebook-cell:/Users/miguelportela/Documents/GitHub/HDFE/Python_PyHDFE_JupyterNotebook_Benchmark.ipynb#ch0000007?line=2'>3</a>\u001b[0m ols \u001b[39m=\u001b[39m sm\u001b[39m.\u001b[39mOLS(y, X)\n",
      "\u001b[0;31mNameError\u001b[0m: name 'residualized' is not defined"
     ]
    }
   ],
   "source": [
    "y = residualized[:, [0]]\n",
    "X = residualized[:, 1:]\n",
    "ols = sm.OLS(y, X)\n",
    "result = ols.fit()\n",
    "result.params\n"
   ]
  }
 ],
 "metadata": {
  "kernelspec": {
   "display_name": "Python 3.9.13 ('mypython310')",
   "language": "python",
   "name": "python3"
  },
  "language_info": {
   "codemirror_mode": {
    "name": "ipython",
    "version": 3
   },
   "file_extension": ".py",
   "mimetype": "text/x-python",
   "name": "python",
   "nbconvert_exporter": "python",
   "pygments_lexer": "ipython3",
   "version": "3.9.13"
  },
  "orig_nbformat": 4,
  "vscode": {
   "interpreter": {
    "hash": "198abcb5d8bab07048753feeb5a1bcb3eb158f044c45ba76843b5692eb94db66"
   }
  }
 },
 "nbformat": 4,
 "nbformat_minor": 2
}
